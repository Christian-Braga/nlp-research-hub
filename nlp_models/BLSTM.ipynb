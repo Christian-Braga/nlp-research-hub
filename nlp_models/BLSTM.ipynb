{
  "cells": [
    {
      "cell_type": "markdown",
      "metadata": {},
      "source": [
        "## **Building, Tuning and Evaluating a standard RNN Model for NLP**"
      ]
    },
    {
      "cell_type": "markdown",
      "metadata": {},
      "source": [
        "### **Libraries**"
      ]
    },
    {
      "cell_type": "code",
      "execution_count": null,
      "metadata": {
        "id": "__FKYclS3WeN"
      },
      "outputs": [],
      "source": [
        "import os\n",
        "import sys\n",
        "import random\n",
        "import numpy as np\n",
        "import pandas as pd\n",
        "from tqdm import tqdm\n",
        "import matplotlib.pyplot as plt\n",
        "from sklearn.metrics import f1_score\n",
        "\n",
        "import torch\n",
        "import torch.nn as nn\n",
        "import torch.nn.functional as F\n",
        "import torch.optim as optim\n",
        "from torch.utils.data import Sampler, BatchSampler, Dataset, DataLoader\n",
        "from torch.nn.utils.rnn import pad_sequence, pack_padded_sequence, pad_packed_sequence\n",
        "\n",
        "from torchtext.vocab import build_vocab_from_iterator\n",
        "from torchtext.data.utils import get_tokenizer\n",
        "\n",
        "from datasets import load_dataset"
      ]
    },
    {
      "cell_type": "markdown",
      "metadata": {},
      "source": [
        "### **Utility Function**"
      ]
    },
    {
      "cell_type": "code",
      "execution_count": null,
      "metadata": {
        "id": "pD8xpJF-fuD4"
      },
      "outputs": [],
      "source": [
        "def regularized_f1(train_f1, dev_f1, threshold=0.0015):\n",
        "    \"\"\"\n",
        "    Returns development F1 if overfitting is below threshold, otherwise 0.\n",
        "    \"\"\"\n",
        "    return dev_f1 if (train_f1 - dev_f1) < threshold else 0\n",
        "\n",
        "\n",
        "def save_metrics(*args, path, fname):\n",
        "    if not os.path.exists(path):\n",
        "        os.makedirs(path)\n",
        "    if not os.path.isfile(path + fname):\n",
        "        with open(path + fname, \"w\", newline=\"\\n\") as f:\n",
        "            f.write(\n",
        "                \",\".join(\n",
        "                    [\n",
        "                        \"config\",\n",
        "                        \"epoch\",\n",
        "                        \"train_loss\",\n",
        "                        \"train_acc\",\n",
        "                        \"train_f1\",\n",
        "                        \"val_loss\",\n",
        "                        \"val_acc\",\n",
        "                        \"val_f1\",\n",
        "                    ]\n",
        "                )\n",
        "            )\n",
        "            f.write(\"\\n\")\n",
        "    if args:\n",
        "        with open(path + fname, \"a\", newline=\"\\n\") as f:\n",
        "            f.write(\",\".join([str(arg) for arg in args]))\n",
        "            f.write(\"\\n\")\n",
        "\n",
        "\n",
        "def seed_everything(seed: int):\n",
        "    random.seed(seed)\n",
        "    os.environ[\"PYTHONHASHSEED\"] = str(seed)\n",
        "    np.random.seed(seed)\n",
        "    torch.manual_seed(seed)\n",
        "    torch.cuda.manual_seed(seed)\n",
        "    torch.backends.cudnn.deterministic = True\n",
        "    torch.backends.cudnn.benchmark = True\n",
        "\n",
        "\n",
        "seed_everything(1234)"
      ]
    },
    {
      "cell_type": "markdown",
      "metadata": {},
      "source": [
        "### **Constants**"
      ]
    },
    {
      "cell_type": "code",
      "execution_count": null,
      "metadata": {
        "id": "RyT10LpwfuD5"
      },
      "outputs": [],
      "source": [
        "VOCAB_SIZE = 20_000\n",
        "BATCH_SIZE = 32\n",
        "NUM_EPOCHS = 15\n",
        "MAX_LEN = 256\n",
        "LEARNING_RATE = 1e-4"
      ]
    },
    {
      "cell_type": "markdown",
      "metadata": {
        "id": "ZxIZ6WaXyQ4s"
      },
      "source": [
        "### **Step 1 - Download and prepare the dataset**\n",
        "\n",
        "I loaded the IMDB dataset using the datasets module from Hugging Face, which conveniently includes preprocessed train and test splits.\n",
        "Next, I customized the train/validation split to better control the distribution of samples during training and evaluation. Specifically:\n",
        "\n",
        "- I selected the central portion of the original training set (from 10% to 85%) to serve as the actual training data.\n",
        "\n",
        "- The remaining outer segments (the first 10% and the last 15%) were combined and used as the validation set.\n",
        "\n",
        "This slicing strategy allowed me to simulate a more realistic validation scenario while maintaining a balanced and representative training set. I used the Hugging Face slicing API directly within the load_dataset function to perform this operation efficiently.\n",
        "\n",
        "The test set provided by the original IMDB dataset remained unchanged and was reserved for final evaluation."
      ]
    },
    {
      "cell_type": "code",
      "execution_count": null,
      "metadata": {
        "colab": {
          "base_uri": "https://localhost:8080/",
          "height": 365,
          "referenced_widgets": [
            "569fcc5bbc2a4abcb3731f855805e03e",
            "81e79e4dd8b644e8a85483a60c2e52ec",
            "1f54080fdd3d44f3a6e4bcbe4b668fe3",
            "b661faddb5e847ec80785e41926e934f",
            "375f605cae404f79b84a08905570bcfc",
            "a7f472d2e0aa4084a5238111c939b034",
            "56a8de23bd7345a099df97d1444da028",
            "d14beb96f422441db82923b846e90905",
            "0e4d91d51b8b46879dacf444de0c0260",
            "fa4238a062fc413bb33360d3fe939d03",
            "6cad6a4f20e2429f9147d16529b8a348",
            "97a382952b0f416c9e864114bda04613",
            "2f32d186c5884ab7a51c418bea8b9828",
            "66db5ff10ce1486ea854d04af9110477",
            "e9da70e09b5e4cacb3024b4a6c5b482b",
            "55afef1fbcd740048ef08d0ae9e29dc1",
            "6e490455b8b546119c46c4765f13b1b3",
            "1b10535e07444d5f9892f72f575885a0",
            "bd7923dd0673459e85cd7ed325fdbfb8",
            "5e239a1e57d24336970ba5e64027c769",
            "235a83435f4947a4993b73df1c862dec",
            "3a3aecd66bb3437bb213af9887fb4e4b",
            "cc58be3ae7f244339d56827fbdfe1161",
            "e8d44fdd8bae4b2c86962cf30f9c3ba4",
            "49954ee2febb4bd18aaa07040b213de6",
            "fc5cd7169645452597846655f23b8a33",
            "a3bef656001a4ea0ba8295d3d0dc452e",
            "07e59c8e03984412a4964a4c4aaa4cae",
            "3eb84592a7f54cd99fd4a28f034170f1",
            "a7ae04ab5fc74139b2748d7b388220b4",
            "a59037fe7a374bf4a8b9cd757f0e9153",
            "8829f4ad0e3f4e26ab72d3c7d20b5c46",
            "5df084944ed1474fad386e9eb7ab87d3",
            "e106454ff4c84c74b9e9b3826c9df6f1",
            "c506b86eb5084d6986d7c7b816595f83",
            "79123cea480f40529dc9f93e82587522",
            "694ceece69f749eb9746baff2de2fac2",
            "8e536527622647a38deacb4c09612a0b",
            "db6a193fa057477ab8bf53eb7352ebcb",
            "253c2ab0df254040a618bf917904fea8",
            "4dddef1ae380406b86686b049146cdb5",
            "ea589ed3620a4f49b45770fcdb85957e",
            "1a9189c754964660a4185a94ed8464fc",
            "996e541876f34234b564ae70f1a11b2c",
            "e26945811d074a2faba747b09c6d4562",
            "0f9e759769a74cbaaaa758d1ec4ceb43",
            "80690da999c1435c82f64608f227a431",
            "40b27aed8c944383915c13b6f582c5c2",
            "6f54ba7955ab43f7868c6dd34bad7792",
            "3ec554946aff4a75af20b7e9a3b52c7f",
            "7b345421cc4240cda710ce729a7b64b3",
            "e65821ff658f4f3b9451a4a4c34af597",
            "aff2fdffa35849e0b7a276ee044e2bf7",
            "1c2d911042d7417fb5df6b56ba56f7e6",
            "d749dac478274a17937d5a9a95ca8c2d",
            "127987266981498ea43ea681d5c9d2bf",
            "780f6a9bbfa94b05b37c33aeb3066779",
            "acef7cbaf2854314b6d35ef0f20790c4",
            "10cf182c1b384c6a86868d3573bbcb00",
            "5b8579e30cbe4ab6acfd9068be94845f",
            "74da7443fd124258858a97c5328d79ce",
            "3ebbbc6f79374f9983cc2be7047ce978",
            "dca645853b80421081d3f8c3210f6fa4",
            "2659cf02ad374740b6cbeb5f3c47e670",
            "fc2d5d476e8a4ad8b1fc30877ea81fda",
            "bfa627c4bb254bf0b63a106251948253",
            "3fde06fe7b0644eb9b4d79a2b2dab689",
            "e1917f4a0b0342469e63ca1a7c3d7609",
            "dc5a7540767b49b7953f3ec53090f7d7",
            "ebe0fa55db0344ed878073c9cb205ab0",
            "ce4de234bc314896847ca6ddaf97efa5",
            "dd994028ed31488b94e610824a5a3711",
            "5e2e2181d25642db9a78a9e52b2ce66a",
            "325cd76d07454f088234e332ade607fe",
            "6c3d82acb7144e189e55379ac87e7cdb",
            "7fcd3bcb30c848df9aac8daccefcf0a4",
            "31db3ca7254b4e539bd3bd7e57bd0f50"
          ]
        },
        "id": "1VWgLv08fuD5",
        "outputId": "092a6047-9524-4689-ba05-8366c069c105"
      },
      "outputs": [
        {
          "name": "stderr",
          "output_type": "stream",
          "text": [
            "/usr/local/lib/python3.10/dist-packages/huggingface_hub/utils/_token.py:89: UserWarning: \n",
            "The secret `HF_TOKEN` does not exist in your Colab secrets.\n",
            "To authenticate with the Hugging Face Hub, create a token in your settings tab (https://huggingface.co/settings/tokens), set it as secret in your Google Colab and restart your session.\n",
            "You will be able to reuse this secret in all of your notebooks.\n",
            "Please note that authentication is recommended but still optional to access public models or datasets.\n",
            "  warnings.warn(\n"
          ]
        },
        {
          "data": {
            "application/vnd.jupyter.widget-view+json": {
              "model_id": "569fcc5bbc2a4abcb3731f855805e03e",
              "version_major": 2,
              "version_minor": 0
            },
            "text/plain": [
              "README.md:   0%|          | 0.00/7.81k [00:00<?, ?B/s]"
            ]
          },
          "metadata": {},
          "output_type": "display_data"
        },
        {
          "data": {
            "application/vnd.jupyter.widget-view+json": {
              "model_id": "97a382952b0f416c9e864114bda04613",
              "version_major": 2,
              "version_minor": 0
            },
            "text/plain": [
              "train-00000-of-00001.parquet:   0%|          | 0.00/21.0M [00:00<?, ?B/s]"
            ]
          },
          "metadata": {},
          "output_type": "display_data"
        },
        {
          "data": {
            "application/vnd.jupyter.widget-view+json": {
              "model_id": "cc58be3ae7f244339d56827fbdfe1161",
              "version_major": 2,
              "version_minor": 0
            },
            "text/plain": [
              "test-00000-of-00001.parquet:   0%|          | 0.00/20.5M [00:00<?, ?B/s]"
            ]
          },
          "metadata": {},
          "output_type": "display_data"
        },
        {
          "data": {
            "application/vnd.jupyter.widget-view+json": {
              "model_id": "e106454ff4c84c74b9e9b3826c9df6f1",
              "version_major": 2,
              "version_minor": 0
            },
            "text/plain": [
              "unsupervised-00000-of-00001.parquet:   0%|          | 0.00/42.0M [00:00<?, ?B/s]"
            ]
          },
          "metadata": {},
          "output_type": "display_data"
        },
        {
          "data": {
            "application/vnd.jupyter.widget-view+json": {
              "model_id": "e26945811d074a2faba747b09c6d4562",
              "version_major": 2,
              "version_minor": 0
            },
            "text/plain": [
              "Generating train split:   0%|          | 0/25000 [00:00<?, ? examples/s]"
            ]
          },
          "metadata": {},
          "output_type": "display_data"
        },
        {
          "data": {
            "application/vnd.jupyter.widget-view+json": {
              "model_id": "127987266981498ea43ea681d5c9d2bf",
              "version_major": 2,
              "version_minor": 0
            },
            "text/plain": [
              "Generating test split:   0%|          | 0/25000 [00:00<?, ? examples/s]"
            ]
          },
          "metadata": {},
          "output_type": "display_data"
        },
        {
          "data": {
            "application/vnd.jupyter.widget-view+json": {
              "model_id": "3fde06fe7b0644eb9b4d79a2b2dab689",
              "version_major": 2,
              "version_minor": 0
            },
            "text/plain": [
              "Generating unsupervised split:   0%|          | 0/50000 [00:00<?, ? examples/s]"
            ]
          },
          "metadata": {},
          "output_type": "display_data"
        }
      ],
      "source": [
        "# load dataset in splits\n",
        "train_data = load_dataset(\"imdb\", split=\"train[10%:85%]\")\n",
        "dev_data = load_dataset(\"imdb\", split=\"train[:10%]+train[85%:]\")\n",
        "test_data = load_dataset(\"imdb\", split=\"test\")"
      ]
    },
    {
      "cell_type": "markdown",
      "metadata": {
        "id": "Ez5uZ7j3fuD5"
      },
      "source": [
        "I defined a tokenizer using `get_tokenizer` with the `'spacy'` backend (`en_core_web_sm`), then built the vocabulary from the dataset using `build_vocab_from_iterator`. I included the special tokens `'<UNK>'` at index `0` and `'<PAD>'` at index `1`, limited the vocabulary size to `VOCAB_SIZE`, and set `'<UNK>'` as the default index for unknown tokens. I also added a test to verify that unknown tokens correctly return index `0`.\n"
      ]
    },
    {
      "cell_type": "code",
      "execution_count": null,
      "metadata": {
        "colab": {
          "base_uri": "https://localhost:8080/"
        },
        "id": "-2BRBrlvfuD6",
        "outputId": "b264039b-7ed8-4fd6-e816-d5f7ae1247a0"
      },
      "outputs": [
        {
          "name": "stderr",
          "output_type": "stream",
          "text": [
            "/usr/local/lib/python3.10/dist-packages/torchtext/data/utils.py:105: UserWarning: Spacy model \"en\" could not be loaded, trying \"en_core_web_sm\" instead\n",
            "  warnings.warn(\n"
          ]
        }
      ],
      "source": [
        "# define tokenizer\n",
        "tokenizer = get_tokenizer(\"spacy\")  # using spaCy tokenizer\n",
        "\n",
        "\n",
        "# function to generate and yield the tokens from the dataset\n",
        "def yield_tokens(data):\n",
        "    for text in data:\n",
        "        yield tokenizer(text[\"text\"])\n",
        "\n",
        "\n",
        "# define vocabulary\n",
        "vocab = build_vocab_from_iterator(\n",
        "    yield_tokens(train_data),\n",
        "    specials=[\"<UNK>\", \"PAD\"],\n",
        "    max_tokens=VOCAB_SIZE,\n",
        ")\n",
        "\n",
        "# set the special tokens\n",
        "vocab.set_default_index(vocab[\"<UNK>\"])"
      ]
    },
    {
      "cell_type": "markdown",
      "metadata": {
        "id": "areMwMjdfuD6"
      },
      "source": [
        "I used the tokenizer and vocabulary to convert the three data splits into sequences of token indices, applying a maximum sequence length of `MAX_LEN`. While this preprocessing was done ahead of time here, it's typically performed on the fly within the `DataLoader`'s `collate_batch` function to handle memory constraints efficiently."
      ]
    },
    {
      "cell_type": "code",
      "execution_count": null,
      "metadata": {
        "id": "2dzmmmivfuD6"
      },
      "outputs": [],
      "source": [
        "train_idx = [\n",
        "    torch.tensor(vocab(tokenizer(text[\"text\"]))[:MAX_LEN]) for text in train_data\n",
        "]\n",
        "dev_idx = [torch.tensor(vocab(tokenizer(text[\"text\"]))[:MAX_LEN]) for text in dev_data]\n",
        "test_idx = [\n",
        "    torch.tensor(vocab(tokenizer(text[\"text\"]))[:MAX_LEN]) for text in test_data\n",
        "]"
      ]
    },
    {
      "cell_type": "markdown",
      "metadata": {
        "id": "4GfH_B8cfuD6"
      },
      "source": [
        "I defined a custom PyTorch dataset by subclassing Dataset, implementing the logic to return tokenized indices and corresponding labels for each sample. I then instantiated this dataset to prepare it for use in the data loading pipeline."
      ]
    },
    {
      "cell_type": "markdown",
      "metadata": {},
      "source": [
        "with this line we create a dataset which is simple to work on it "
      ]
    },
    {
      "cell_type": "code",
      "execution_count": null,
      "metadata": {
        "id": "gHCeYDkLfuD7"
      },
      "outputs": [],
      "source": [
        "class ImdbDataset(Dataset):\n",
        "    def __init__(self, seq, lbl):\n",
        "        self.sequences = seq\n",
        "        self.labels = lbl\n",
        "\n",
        "    def __getitem__(self, idx):\n",
        "        return {\"input_ids\": self.sequences[idx], \"label\": self.labels[idx]}\n",
        "\n",
        "    def __len__(self):\n",
        "        return len(self.sequences)"
      ]
    },
    {
      "cell_type": "code",
      "execution_count": null,
      "metadata": {
        "id": "zKq2EIbEfuD7"
      },
      "outputs": [],
      "source": [
        "train_set = ImdbDataset(train_idx, train_data[\"label\"])\n",
        "dev_set = ImdbDataset(dev_idx, dev_data[\"label\"])\n",
        "test_set = ImdbDataset(test_idx, test_data[\"label\"])"
      ]
    },
    {
      "cell_type": "markdown",
      "metadata": {
        "id": "nA5ZCFGpfuD7"
      },
      "source": [
        "- I implemented a custom GroupedSampler to improve training efficiency by grouping samples of similar length, reducing padding variability within batches. \n",
        "\n",
        "- In the __init__ method, I paired each dataset index with the length of its tokenized sequence.\n",
        "\n",
        "- In the __iter__ method, I shuffled this list, formed temporary groups of size BATCH_SIZE * 100, and sorted each group by sequence length to preserve input diversity across epochs.\n",
        "I then extracted only the sorted indices and returned them as an iterator. Finally, \n",
        "\n",
        "- I completed the __len__ method to return the total number of samples."
      ]
    },
    {
      "cell_type": "code",
      "execution_count": null,
      "metadata": {
        "id": "oJ0V7R4bfuD7"
      },
      "outputs": [],
      "source": [
        "class GroupedSampler(Sampler):\n",
        "    def __init__(self, seqs, batch_size):\n",
        "        \"\"\"\n",
        "        Args:\n",
        "            seqs (List[List[int]]): List of tokenized sequences from ImdbDataset.\n",
        "            batch_size (int): Batch size for sampling.\n",
        "        \"\"\"\n",
        "        self.seqs = seqs\n",
        "        self.batch_size = batch_size\n",
        "\n",
        "        # pair each sequence index with its tokenized sequence length\n",
        "        self.index_length_list = [(index, len(seq)) for index, seq in enumerate(seqs)]\n",
        "\n",
        "    def __iter__(self):\n",
        "        # shuffle the index-length list for randomness each epoch\n",
        "        random.shuffle(self.index_length_list)\n",
        "\n",
        "        # chunk size as per specifications\n",
        "        chunk_size = self.batch_size * 100\n",
        "        grouped_indices = []\n",
        "\n",
        "        # process in chunks, sort each chunk by sequence length\n",
        "        for i in range(0, len(self.index_length_list), chunk_size):\n",
        "            chunk = self.index_length_list[i : i + chunk_size]\n",
        "\n",
        "            # sort within the chunk by sequence length\n",
        "            chunk.sort(key=lambda x: x[1])  # sort by sequence length (ascending)\n",
        "\n",
        "            # extend grouped_indices with only the indices from each sorted chunk\n",
        "            grouped_indices.extend([index for index, _ in chunk])\n",
        "\n",
        "        return iter(grouped_indices)\n",
        "\n",
        "    def __len__(self):\n",
        "        return len(self.seqs)"
      ]
    },
    {
      "cell_type": "markdown",
      "metadata": {
        "id": "tGyhj0JkfuD7"
      },
      "source": [
        "* Now create the `GroupedSampler`, use it as input to create a `BatchSampler` (imported in the beginning)"
      ]
    },
    {
      "cell_type": "code",
      "execution_count": null,
      "metadata": {
        "id": "EMJUnu77fuD8"
      },
      "outputs": [],
      "source": [
        "train_grouped_sampler = GroupedSampler(seqs=train_idx, batch_size=BATCH_SIZE)\n",
        "train_sampler = BatchSampler(\n",
        "    sampler=train_grouped_sampler, batch_size=BATCH_SIZE, drop_last=False\n",
        ")"
      ]
    },
    {
      "cell_type": "markdown",
      "metadata": {
        "id": "Qsp416RRfuD8"
      },
      "source": [
        "I defined a custom collate_fn to process batches of tokenized sequences and labels. The function pads the sequences to the same length using padding_value=1 (reserving 0 for '<UNK>'), converts the labels into tensors, and computes the original (pre-padding) lengths of each sequence. It returns three tensors per batch: the padded sequences, the corresponding labels, and the original sequence lengths."
      ]
    },
    {
      "cell_type": "markdown",
      "metadata": {},
      "source": [
        "we want to do transformation of the batch we sampled, we want to transfrom the batch into tensor. "
      ]
    },
    {
      "cell_type": "code",
      "execution_count": null,
      "metadata": {
        "id": "-wOZuYtzyv8J"
      },
      "outputs": [],
      "source": [
        "def collate_batch(batch):\n",
        "    # Extract sequences and labels from batch items using dictionary keys\n",
        "    sequences = [torch.tensor(item[\"input_ids\"], dtype=torch.long) for item in batch]\n",
        "    labels = torch.tensor([item[\"label\"] for item in batch], dtype=torch.float)\n",
        "    lengths = torch.tensor(\n",
        "        [len(seq) for seq in sequences], dtype=torch.long\n",
        "    )  # original lengths before padding\n",
        "\n",
        "    # pad sequences to the same length\n",
        "    padded_sequences = pad_sequence(\n",
        "        sequences, batch_first=True, padding_value=1\n",
        "    )  # padding value is 1\n",
        "\n",
        "    return padded_sequences, labels, lengths"
      ]
    },
    {
      "cell_type": "markdown",
      "metadata": {
        "id": "Oy-igjj4fuD8"
      },
      "source": [
        "I created the final DataLoader for the training set using the custom dataset, GroupedSampler, and collate_fn, setting num_workers=2 to control parallelism. For the validation and test sets, I instantiated their respective ImdbDataset and DataLoader without shuffling or custom samplers, but maintained the same batch size and collate_fn to ensure consistent batching and padding behavior across all splits."
      ]
    },
    {
      "cell_type": "code",
      "execution_count": null,
      "metadata": {
        "id": "MXYOxtTsfuD8"
      },
      "outputs": [],
      "source": [
        "# create dataloaders\n",
        "train_loader = DataLoader(\n",
        "    dataset=train_set,\n",
        "    batch_size=BATCH_SIZE,\n",
        "    shuffle=True,\n",
        "    collate_fn=collate_batch,\n",
        "    num_workers=2,\n",
        ")\n",
        "\n",
        "# Create DataLoader for validation set\n",
        "val_loader = DataLoader(\n",
        "    dataset=dev_set,\n",
        "    batch_size=BATCH_SIZE,\n",
        "    shuffle=False,  # no shuffle for validation\n",
        "    collate_fn=collate_batch,\n",
        "    num_workers=2,\n",
        ")\n",
        "\n",
        "# Create DataLoader for test set\n",
        "test_loader = DataLoader(\n",
        "    dataset=test_set,\n",
        "    batch_size=BATCH_SIZE,\n",
        "    shuffle=False,  # no shuffle for test set\n",
        "    collate_fn=collate_batch,\n",
        "    num_workers=2,\n",
        ")"
      ]
    },
    {
      "cell_type": "markdown",
      "metadata": {
        "id": "vtlVac9byJHb"
      },
      "source": [
        "### BiLSTM-Based Sequence Classifier\n",
        "\n",
        "The implemented model is a BiLSTM-based sequence classifier for binary text classification. Below is a breakdown of its components and functionalities:\n",
        "\n",
        "---\n",
        "\n",
        "#### Embedding Layer\n",
        "- **Inputs**: `vocab_size`, `embedding_dim`, `padding_idx=1`  \n",
        "- **Purpose**: Converts token indices into dense vector representations.\n",
        "\n",
        "---\n",
        "\n",
        "#### Dropout Layer\n",
        "- **Position**: Applied immediately after the embeddings  \n",
        "- **Purpose**: Prevents overfitting.\n",
        "\n",
        "---\n",
        "\n",
        "#### Bidirectional LSTM Layer\n",
        "- **Inputs**: `embedding_dim` (input size), `rnn_size` (hidden size)  \n",
        "- **Configuration**: Bidirectional — captures both past and future context  \n",
        "- **Sequence Handling**:  \n",
        "  - Inputs are wrapped using `pack_padded_sequence`  \n",
        "  - Outputs are unpacked with `pad_packed_sequence`  \n",
        "  - Ensures efficient handling of variable-length sequences.\n",
        "\n",
        "---\n",
        "\n",
        "#### Pooling Operation\n",
        "- **Type**: `torch.mean()`  \n",
        "- **Purpose**: Reduces the LSTM outputs to a single vector per sequence by averaging over the time dimension.\n",
        "\n",
        "---\n",
        "\n",
        "#### Fully Connected Layers\n",
        "- **First Linear Layer**:  \n",
        "  - Projects the pooled LSTM output to a `hidden_size` dimensional space  \n",
        "  - **Activation**: `ReLU`  \n",
        "  - **Dropout**: Applied after the transformation for regularization.\n",
        "\n",
        "- **Second Linear Layer**:  \n",
        "  - Maps the hidden representation to either 1 or 2 output neurons  \n",
        "  - Suitable for binary classification depending on the chosen loss function.\n",
        "\n",
        "---\n",
        "\n",
        "This architecture ensures robust sequence modeling with contextual encoding from the BiLSTM, efficient padding handling, and proper regularization through dropout.\n"
      ]
    },
    {
      "cell_type": "code",
      "execution_count": null,
      "metadata": {
        "id": "U9Hn5r0J5IeR"
      },
      "outputs": [],
      "source": [
        "class BiLSTM(nn.Module):\n",
        "    def __init__(self, vocab_size, embedding_dim, rnn_size, hidden_size, dropout):\n",
        "        super(BiLSTM, self).__init__()\n",
        "\n",
        "        self.embedding = nn.Embedding(\n",
        "            num_embeddings=vocab_size,\n",
        "            embedding_dim=embedding_dim,\n",
        "            padding_idx=1,  # <PAD> token\n",
        "        )\n",
        "\n",
        "        self.dropout = nn.Dropout(p=dropout)\n",
        "\n",
        "        self.lstm = nn.LSTM(\n",
        "            input_size=embedding_dim,\n",
        "            hidden_size=rnn_size,\n",
        "            num_layers=1,\n",
        "            bidirectional=True,\n",
        "            batch_first=True,\n",
        "        )\n",
        "\n",
        "        # First Linear Layer\n",
        "        self.fc1 = nn.Linear(in_features=rnn_size * 2, out_features=hidden_size)\n",
        "\n",
        "        # Output layer\n",
        "        self.fc2 = nn.Linear(\n",
        "            in_features=hidden_size,\n",
        "            out_features=1,  # Single output for binary classification\n",
        "        )\n",
        "\n",
        "        # Activation\n",
        "        self.relu = nn.ReLU()\n",
        "\n",
        "    def forward(self, seq, lengths):\n",
        "        # Embedding layer with dropout\n",
        "        embedded = self.dropout(self.embedding(seq))\n",
        "\n",
        "        packed_embedded = nn.utils.rnn.pack_padded_sequence(\n",
        "            embedded, lengths.cpu(), batch_first=True, enforce_sorted=False\n",
        "        )\n",
        "\n",
        "        # LSTM layer\n",
        "        packed_output, (hidden, cell) = self.lstm(packed_embedded)\n",
        "\n",
        "        output, _ = nn.utils.rnn.pad_packed_sequence(packed_output, batch_first=True)\n",
        "\n",
        "        # Mean pooling over sequence length\n",
        "        pooled = torch.mean(output, dim=1)\n",
        "\n",
        "        # First Linear Layer with ReLU and dropout\n",
        "        fc1_out = self.dropout(self.relu(self.fc1(pooled)))\n",
        "\n",
        "        # Output Layer\n",
        "        output = self.fc2(fc1_out).squeeze(\n",
        "            1\n",
        "        )  # Squeeze for binary classification output\n",
        "        return output\n"
      ]
    },
    {
      "cell_type": "markdown",
      "metadata": {
        "id": "MALP7MELyRB_"
      },
      "source": [
        "## Task 3 - Inner train loop\n",
        "* Create a global `device` variable which checks whether a GPU is available or not, and sets the device to either GPU or CPU."
      ]
    },
    {
      "cell_type": "code",
      "execution_count": null,
      "metadata": {
        "id": "SuI6_4vzfuD9"
      },
      "outputs": [],
      "source": [
        "device = torch.device(\"cuda\" if torch.cuda.is_available() else \"cpu\")"
      ]
    },
    {
      "cell_type": "markdown",
      "metadata": {
        "id": "6ZPUTbsTfuD9"
      },
      "source": [
        "### Training and Evaluation Loop (`process` Function)\n",
        "\n",
        "The `process` function encapsulates the logic for performing a single pass through the dataset, either for training or evaluation. It handles device transfers, batch iteration, loss computation, and metric aggregation.\n",
        "\n",
        "---\n",
        "\n",
        "#### Function Overview\n",
        "- **Inputs**:\n",
        "  - `model`: the sequence classifier to train or evaluate\n",
        "  - `dataloader`: a `DataLoader` that yields batches of (sequences, labels, lengths)\n",
        "  - `criterion`: loss function\n",
        "  - `optimizer`: (optional) optimizer for backpropagation\n",
        "\n",
        "- **Loop Behavior**:\n",
        "  - Iterates once over the dataset (i.e., one epoch)\n",
        "  - Uses `tqdm()` to display progress with `unit='batches'`, `file=sys.stdout`, and appropriate `desc` (e.g., `'Training'` or `'Evaluating'`)\n",
        "  - Moves `sequences` and `labels` to `device`\n",
        "  - Keeps `lengths` on **CPU** (required for correct sequence handling)\n",
        "\n",
        "---\n",
        "\n",
        "#### Training Mode\n",
        "- If `optimizer` is provided:\n",
        "  - Sets model to `train()` mode\n",
        "  - For each batch:\n",
        "    - Performs forward pass\n",
        "    - Computes loss\n",
        "    - Executes backpropagation (`loss.backward()` and `optimizer.step()`)\n",
        "    - Accumulates predictions, loss, and correct predictions\n",
        "\n",
        "---\n",
        "\n",
        "#### Evaluation Mode\n",
        "- If `optimizer` is `None`:\n",
        "  - Sets model to `eval()` mode with `torch.no_grad()`\n",
        "  - Performs the same forward logic without updating weights\n",
        "\n",
        "---\n",
        "\n",
        "#### Metrics Computed per Epoch\n",
        "- **Loss**: averaged over all samples\n",
        "- **Accuracy**: total correct predictions divided by number of samples\n",
        "- **F1 Score**: computed using all predictions and labels from the epoch\n",
        "\n",
        "These metrics are returned at the end of the epoch for logging or early stopping.\n"
      ]
    },
    {
      "cell_type": "code",
      "execution_count": null,
      "metadata": {
        "id": "UO1qHO_YxjYx"
      },
      "outputs": [],
      "source": [
        "def process(model, loader, criterion, optim=None):\n",
        "    is_train = optim is not None\n",
        "    model.train() if is_train else model.eval()\n",
        "\n",
        "    total_loss = 0\n",
        "    all_preds = []\n",
        "    all_labels = []\n",
        "    total_samples = 0\n",
        "    correct_predictions = 0\n",
        "\n",
        "    for padded_sequences, labels, lengths in tqdm(\n",
        "        loader,\n",
        "        desc=\"Training\" if is_train else \"Evaluating\",\n",
        "        file=sys.stdout,\n",
        "        unit=\"batches\",\n",
        "    ):\n",
        "        # Move data to device\n",
        "        sequences = padded_sequences.to(device)\n",
        "        labels = labels.to(device)\n",
        "        lengths = lengths.cpu()  # Keep lengths on CPU for pack_padded_sequence\n",
        "\n",
        "        with torch.set_grad_enabled(is_train):\n",
        "            outputs = model(sequences, lengths)\n",
        "            loss = criterion(outputs, labels)\n",
        "            total_loss += loss.item() * labels.size(0)\n",
        "\n",
        "            # Convert model outputs to binary predictions\n",
        "            probs = torch.sigmoid(outputs).cpu().detach().numpy()\n",
        "            preds = (probs >= 0.5).astype(int)\n",
        "            all_preds.extend(preds.flatten())\n",
        "            all_labels.extend(labels.cpu().numpy().flatten())\n",
        "\n",
        "            correct_predictions += (\n",
        "                preds.flatten() == labels.cpu().numpy().flatten()\n",
        "            ).sum()\n",
        "\n",
        "            if is_train:  # important this function but why?\n",
        "                optim.zero_grad()\n",
        "                loss.backward()\n",
        "                optim.step()\n",
        "\n",
        "        total_samples += labels.size(0)\n",
        "\n",
        "    avg_loss = total_loss / total_samples\n",
        "    avg_accuracy = correct_predictions / total_samples\n",
        "    avg_f1 = f1_score(all_labels, all_preds, zero_division=1)\n",
        "\n",
        "    print(f\"Unique values in predictions: {np.unique(all_preds, return_counts=True)}\")\n",
        "    print(f\"Unique values in labels: {np.unique(all_labels, return_counts=True)}\")\n",
        "    return avg_loss, avg_accuracy, avg_f1\n"
      ]
    },
    {
      "cell_type": "markdown",
      "metadata": {
        "id": "NF8rwd8P7Tib"
      },
      "source": [
        "# Task 4 - Training and Hyperparameter Optimization\n",
        "In the following, we provide 3 configurations for the above created BiLSTM. Try to understand how they differ from each other."
      ]
    },
    {
      "cell_type": "code",
      "execution_count": null,
      "metadata": {
        "id": "xsrISVzGfuD9"
      },
      "outputs": [],
      "source": [
        "configs = {\n",
        "    \"config1\": {\n",
        "        \"vocab_size\": VOCAB_SIZE,\n",
        "        \"embedding_dim\": 10,\n",
        "        \"hidden_size\": 10,\n",
        "        \"rnn_size\": 10,\n",
        "        \"dropout\": 0.5,\n",
        "    },\n",
        "    \"config2\": {\n",
        "        \"vocab_size\": VOCAB_SIZE,\n",
        "        \"embedding_dim\": 64,\n",
        "        \"hidden_size\": 32,\n",
        "        \"rnn_size\": 256,\n",
        "        \"dropout\": 0.5,\n",
        "    },\n",
        "    \"config3\": {\n",
        "        \"vocab_size\": VOCAB_SIZE,\n",
        "        \"embedding_dim\": 300,\n",
        "        \"hidden_size\": 256,\n",
        "        \"rnn_size\": 256,\n",
        "        \"dropout\": 0.5,\n",
        "    },\n",
        "}"
      ]
    },
    {
      "cell_type": "markdown",
      "metadata": {
        "id": "nA20LuK6fuD-"
      },
      "source": [
        "* Choose the correct criterion to train and evaluate your created model"
      ]
    },
    {
      "cell_type": "code",
      "execution_count": null,
      "metadata": {
        "id": "orAFVm4cfuD-"
      },
      "outputs": [],
      "source": [
        "criterion = nn.BCEWithLogitsLoss()"
      ]
    },
    {
      "cell_type": "markdown",
      "metadata": {
        "id": "GRTGPHxtfuD-"
      },
      "source": [
        "### Hyperparameter Search and Training Loop\n",
        "\n",
        "This section implements a full training and validation loop with hyperparameter search across multiple configurations. The goal is to find the model configuration that best generalizes by maximizing the validation F1 score while avoiding overfitting.\n",
        "\n",
        "---\n",
        "\n",
        "#### Loop Structure\n",
        "\n",
        "For each configuration:\n",
        "1. **Model Initialization**\n",
        "   - Instantiate a new model with the current hyperparameters.\n",
        "   - Move the model to the `device`.\n",
        "\n",
        "2. **Optimizer Setup**\n",
        "   - Use the Adam optimizer with the globally defined `LEARNING_RATE`.\n",
        "   - Re-initialize the optimizer with the current model's parameters.\n",
        "\n",
        "3. **Training Across Epochs**\n",
        "   - For each epoch (up to `NUM_EPOCHS`):\n",
        "     - Switch model to training mode and call `process()` on the training set with backpropagation.\n",
        "     - Switch model to evaluation mode and call `process()` on the validation set without gradient computation.\n",
        "     - Save both training and validation metrics using `save_metrics(config_id, epoch, ...)`.\n",
        "     - Optionally print the metrics for live tracking.\n",
        "\n",
        "4. **Generalization Checkpointing**\n",
        "   - Compute the **regularized F1 score**:\n",
        "     ```python\n",
        "     regularized_f1_score = regularized_f1(f1_valid, f1_train)\n",
        "     ```\n",
        "   - If this score is greater than the best **overall** regularized F1 so far:\n",
        "     - Save the current model’s state dict to `best_model.pt`.\n",
        "     - Track the corresponding configuration ID for later testing.\n",
        "\n",
        "5. **Early Stopping (per configuration)**\n",
        "   - Track the best validation F1 seen so far in the current configuration.\n",
        "   - If three consecutive epochs do not surpass this F1 score, stop training early for this configuration.\n",
        "\n",
        "---\n",
        "\n",
        "#### Final Testing Step\n",
        "Once all configurations have been evaluated:\n",
        "- Load the best saved model from `best_model.pt`.\n",
        "- Evaluate on the **test set**.\n",
        "- Print or log the final test metrics.\n",
        "\n",
        "---\n",
        "\n",
        "#### Utility Functions\n",
        "- `process(model, dataloader, criterion, optimizer=None)`  \n",
        "  Handles forward pass and training/evaluation logic per epoch.\n",
        "\n",
        "- `regularized_f1(f1_valid, f1_train)`  \n",
        "  Computes a regularized F1 score that penalizes overfitting.\n",
        "\n",
        "- `save_metrics(config, epoch, train_loss, train_acc, train_f1, val_loss, val_acc, val_f1)`  \n",
        "  Logs epoch results to `.csv`. All numeric fields must be passed as numbers (not strings).\n",
        "\n",
        "---\n",
        "\n",
        "This setup ensures that the selected model is the one that not only fits the training data but also generalizes well, preventing overfitting through regularized performance tracking and early stopping.\n"
      ]
    },
    {
      "cell_type": "code",
      "execution_count": null,
      "metadata": {
        "colab": {
          "base_uri": "https://localhost:8080/"
        },
        "id": "yySy13YpfuD-",
        "outputId": "c146aca2-886c-48ed-a7ea-bdbe41e3a748"
      },
      "outputs": [
        {
          "name": "stdout",
          "output_type": "stream",
          "text": [
            "\n",
            "Running configuration 1...\n",
            "\n",
            "Training epoch 1 for config 1...\n",
            "Training:   0%|          | 0/586 [00:00<?, ?batches/s]"
          ]
        },
        {
          "name": "stderr",
          "output_type": "stream",
          "text": [
            "<ipython-input-12-695c2b96817b>:3: UserWarning: To copy construct from a tensor, it is recommended to use sourceTensor.clone().detach() or sourceTensor.clone().detach().requires_grad_(True), rather than torch.tensor(sourceTensor).\n",
            "  sequences = [torch.tensor(item[\"input_ids\"], dtype=torch.long) for item in batch]\n",
            "<ipython-input-12-695c2b96817b>:3: UserWarning: To copy construct from a tensor, it is recommended to use sourceTensor.clone().detach() or sourceTensor.clone().detach().requires_grad_(True), rather than torch.tensor(sourceTensor).\n",
            "  sequences = [torch.tensor(item[\"input_ids\"], dtype=torch.long) for item in batch]\n"
          ]
        },
        {
          "name": "stdout",
          "output_type": "stream",
          "text": [
            "Training: 100%|██████████| 586/586 [00:16<00:00, 35.46batches/s]\n",
            "Unique values in predictions: (array([0, 1]), array([ 6141, 12609]))\n",
            "Unique values in labels: (array([0., 1.], dtype=float32), array([10000,  8750]))\n",
            "Evaluating:   0%|          | 0/196 [00:00<?, ?batches/s]"
          ]
        },
        {
          "name": "stderr",
          "output_type": "stream",
          "text": [
            "<ipython-input-12-695c2b96817b>:3: UserWarning: To copy construct from a tensor, it is recommended to use sourceTensor.clone().detach() or sourceTensor.clone().detach().requires_grad_(True), rather than torch.tensor(sourceTensor).\n",
            "  sequences = [torch.tensor(item[\"input_ids\"], dtype=torch.long) for item in batch]\n",
            "<ipython-input-12-695c2b96817b>:3: UserWarning: To copy construct from a tensor, it is recommended to use sourceTensor.clone().detach() or sourceTensor.clone().detach().requires_grad_(True), rather than torch.tensor(sourceTensor).\n",
            "  sequences = [torch.tensor(item[\"input_ids\"], dtype=torch.long) for item in batch]\n"
          ]
        },
        {
          "name": "stdout",
          "output_type": "stream",
          "text": [
            "Evaluating: 100%|██████████| 196/196 [00:02<00:00, 90.58batches/s] \n",
            "Unique values in predictions: (array([0, 1]), array([5649,  601]))\n",
            "Unique values in labels: (array([0., 1.], dtype=float32), array([2500, 3750]))\n",
            "Epoch 1 - Config 1: Train Loss = 0.6942, Train Acc = 0.4937, Train F1 = 0.5556, Val Loss = 0.6955, Val Acc = 0.4232, Val F1 = 0.1715, Reg F1 = 0.0000\n",
            "\n",
            "Training epoch 2 for config 1...\n",
            "Training:   0%|          | 0/586 [00:00<?, ?batches/s]"
          ]
        },
        {
          "name": "stderr",
          "output_type": "stream",
          "text": [
            "<ipython-input-12-695c2b96817b>:3: UserWarning: To copy construct from a tensor, it is recommended to use sourceTensor.clone().detach() or sourceTensor.clone().detach().requires_grad_(True), rather than torch.tensor(sourceTensor).\n",
            "  sequences = [torch.tensor(item[\"input_ids\"], dtype=torch.long) for item in batch]\n",
            "<ipython-input-12-695c2b96817b>:3: UserWarning: To copy construct from a tensor, it is recommended to use sourceTensor.clone().detach() or sourceTensor.clone().detach().requires_grad_(True), rather than torch.tensor(sourceTensor).\n",
            "  sequences = [torch.tensor(item[\"input_ids\"], dtype=torch.long) for item in batch]\n"
          ]
        },
        {
          "name": "stdout",
          "output_type": "stream",
          "text": [
            "Training: 100%|██████████| 586/586 [00:17<00:00, 33.83batches/s]\n",
            "Unique values in predictions: (array([0, 1]), array([16944,  1806]))\n",
            "Unique values in labels: (array([0., 1.], dtype=float32), array([10000,  8750]))\n",
            "Evaluating:   0%|          | 0/196 [00:00<?, ?batches/s]"
          ]
        },
        {
          "name": "stderr",
          "output_type": "stream",
          "text": [
            "<ipython-input-12-695c2b96817b>:3: UserWarning: To copy construct from a tensor, it is recommended to use sourceTensor.clone().detach() or sourceTensor.clone().detach().requires_grad_(True), rather than torch.tensor(sourceTensor).\n",
            "  sequences = [torch.tensor(item[\"input_ids\"], dtype=torch.long) for item in batch]\n",
            "<ipython-input-12-695c2b96817b>:3: UserWarning: To copy construct from a tensor, it is recommended to use sourceTensor.clone().detach() or sourceTensor.clone().detach().requires_grad_(True), rather than torch.tensor(sourceTensor).\n",
            "  sequences = [torch.tensor(item[\"input_ids\"], dtype=torch.long) for item in batch]\n"
          ]
        },
        {
          "name": "stdout",
          "output_type": "stream",
          "text": [
            "Evaluating: 100%|██████████| 196/196 [00:03<00:00, 62.15batches/s]\n",
            "Unique values in predictions: (array([0]), array([6250]))\n",
            "Unique values in labels: (array([0., 1.], dtype=float32), array([2500, 3750]))\n",
            "Epoch 2 - Config 1: Train Loss = 0.6914, Train Acc = 0.5340, Train F1 = 0.1722, Val Loss = 0.7010, Val Acc = 0.4000, Val F1 = 0.0000, Reg F1 = 0.0000\n",
            "\n",
            "Training epoch 3 for config 1...\n",
            "Training:   0%|          | 0/586 [00:00<?, ?batches/s]"
          ]
        },
        {
          "name": "stderr",
          "output_type": "stream",
          "text": [
            "<ipython-input-12-695c2b96817b>:3: UserWarning: To copy construct from a tensor, it is recommended to use sourceTensor.clone().detach() or sourceTensor.clone().detach().requires_grad_(True), rather than torch.tensor(sourceTensor).\n",
            "  sequences = [torch.tensor(item[\"input_ids\"], dtype=torch.long) for item in batch]\n",
            "<ipython-input-12-695c2b96817b>:3: UserWarning: To copy construct from a tensor, it is recommended to use sourceTensor.clone().detach() or sourceTensor.clone().detach().requires_grad_(True), rather than torch.tensor(sourceTensor).\n",
            "  sequences = [torch.tensor(item[\"input_ids\"], dtype=torch.long) for item in batch]\n"
          ]
        },
        {
          "name": "stdout",
          "output_type": "stream",
          "text": [
            "Training: 100%|██████████| 586/586 [00:17<00:00, 33.30batches/s]\n",
            "Unique values in predictions: (array([0, 1]), array([18454,   296]))\n",
            "Unique values in labels: (array([0., 1.], dtype=float32), array([10000,  8750]))\n",
            "Evaluating:   0%|          | 0/196 [00:00<?, ?batches/s]"
          ]
        },
        {
          "name": "stderr",
          "output_type": "stream",
          "text": [
            "<ipython-input-12-695c2b96817b>:3: UserWarning: To copy construct from a tensor, it is recommended to use sourceTensor.clone().detach() or sourceTensor.clone().detach().requires_grad_(True), rather than torch.tensor(sourceTensor).\n",
            "  sequences = [torch.tensor(item[\"input_ids\"], dtype=torch.long) for item in batch]\n",
            "<ipython-input-12-695c2b96817b>:3: UserWarning: To copy construct from a tensor, it is recommended to use sourceTensor.clone().detach() or sourceTensor.clone().detach().requires_grad_(True), rather than torch.tensor(sourceTensor).\n",
            "  sequences = [torch.tensor(item[\"input_ids\"], dtype=torch.long) for item in batch]\n"
          ]
        },
        {
          "name": "stdout",
          "output_type": "stream",
          "text": [
            "Evaluating: 100%|██████████| 196/196 [00:02<00:00, 91.75batches/s] \n",
            "Unique values in predictions: (array([0]), array([6250]))\n",
            "Unique values in labels: (array([0., 1.], dtype=float32), array([2500, 3750]))\n",
            "Epoch 3 - Config 1: Train Loss = 0.6906, Train Acc = 0.5351, Train F1 = 0.0365, Val Loss = 0.7036, Val Acc = 0.4000, Val F1 = 0.0000, Reg F1 = 0.0000\n",
            "Early stopping in configuration 1 at epoch 3 due to no improvement.\n",
            "\n",
            "Running configuration 2...\n",
            "\n",
            "Training epoch 1 for config 2...\n",
            "Training:   0%|          | 0/586 [00:00<?, ?batches/s]"
          ]
        },
        {
          "name": "stderr",
          "output_type": "stream",
          "text": [
            "<ipython-input-12-695c2b96817b>:3: UserWarning: To copy construct from a tensor, it is recommended to use sourceTensor.clone().detach() or sourceTensor.clone().detach().requires_grad_(True), rather than torch.tensor(sourceTensor).\n",
            "  sequences = [torch.tensor(item[\"input_ids\"], dtype=torch.long) for item in batch]\n",
            "<ipython-input-12-695c2b96817b>:3: UserWarning: To copy construct from a tensor, it is recommended to use sourceTensor.clone().detach() or sourceTensor.clone().detach().requires_grad_(True), rather than torch.tensor(sourceTensor).\n",
            "  sequences = [torch.tensor(item[\"input_ids\"], dtype=torch.long) for item in batch]\n"
          ]
        },
        {
          "name": "stdout",
          "output_type": "stream",
          "text": [
            "Training: 100%|██████████| 586/586 [00:21<00:00, 27.68batches/s]\n",
            "Unique values in predictions: (array([0, 1]), array([16270,  2480]))\n",
            "Unique values in labels: (array([0., 1.], dtype=float32), array([10000,  8750]))\n",
            "Evaluating:   0%|          | 0/196 [00:00<?, ?batches/s]"
          ]
        },
        {
          "name": "stderr",
          "output_type": "stream",
          "text": [
            "<ipython-input-12-695c2b96817b>:3: UserWarning: To copy construct from a tensor, it is recommended to use sourceTensor.clone().detach() or sourceTensor.clone().detach().requires_grad_(True), rather than torch.tensor(sourceTensor).\n",
            "  sequences = [torch.tensor(item[\"input_ids\"], dtype=torch.long) for item in batch]\n"
          ]
        },
        {
          "name": "stdout",
          "output_type": "stream",
          "text": [
            "\rEvaluating:   1%|          | 1/196 [00:00<00:36,  5.29batches/s]"
          ]
        },
        {
          "name": "stderr",
          "output_type": "stream",
          "text": [
            "<ipython-input-12-695c2b96817b>:3: UserWarning: To copy construct from a tensor, it is recommended to use sourceTensor.clone().detach() or sourceTensor.clone().detach().requires_grad_(True), rather than torch.tensor(sourceTensor).\n",
            "  sequences = [torch.tensor(item[\"input_ids\"], dtype=torch.long) for item in batch]\n"
          ]
        },
        {
          "name": "stdout",
          "output_type": "stream",
          "text": [
            "Evaluating: 100%|██████████| 196/196 [00:04<00:00, 48.20batches/s]\n",
            "Unique values in predictions: (array([0, 1]), array([2640, 3610]))\n",
            "Unique values in labels: (array([0., 1.], dtype=float32), array([2500, 3750]))\n",
            "Epoch 1 - Config 2: Train Loss = 0.6827, Train Acc = 0.5565, Train F1 = 0.2595, Val Loss = 0.6915, Val Acc = 0.6083, Val F1 = 0.6674, Reg F1 = 0.6674\n",
            "\n",
            "Training epoch 2 for config 2...\n",
            "Training:   0%|          | 0/586 [00:00<?, ?batches/s]"
          ]
        },
        {
          "name": "stderr",
          "output_type": "stream",
          "text": [
            "<ipython-input-12-695c2b96817b>:3: UserWarning: To copy construct from a tensor, it is recommended to use sourceTensor.clone().detach() or sourceTensor.clone().detach().requires_grad_(True), rather than torch.tensor(sourceTensor).\n",
            "  sequences = [torch.tensor(item[\"input_ids\"], dtype=torch.long) for item in batch]\n",
            "<ipython-input-12-695c2b96817b>:3: UserWarning: To copy construct from a tensor, it is recommended to use sourceTensor.clone().detach() or sourceTensor.clone().detach().requires_grad_(True), rather than torch.tensor(sourceTensor).\n",
            "  sequences = [torch.tensor(item[\"input_ids\"], dtype=torch.long) for item in batch]\n"
          ]
        },
        {
          "name": "stdout",
          "output_type": "stream",
          "text": [
            "Training: 100%|██████████| 586/586 [00:21<00:00, 27.61batches/s]\n",
            "Unique values in predictions: (array([0, 1]), array([11267,  7483]))\n",
            "Unique values in labels: (array([0., 1.], dtype=float32), array([10000,  8750]))\n",
            "Evaluating:   0%|          | 0/196 [00:00<?, ?batches/s]"
          ]
        },
        {
          "name": "stderr",
          "output_type": "stream",
          "text": [
            "<ipython-input-12-695c2b96817b>:3: UserWarning: To copy construct from a tensor, it is recommended to use sourceTensor.clone().detach() or sourceTensor.clone().detach().requires_grad_(True), rather than torch.tensor(sourceTensor).\n",
            "  sequences = [torch.tensor(item[\"input_ids\"], dtype=torch.long) for item in batch]\n",
            "<ipython-input-12-695c2b96817b>:3: UserWarning: To copy construct from a tensor, it is recommended to use sourceTensor.clone().detach() or sourceTensor.clone().detach().requires_grad_(True), rather than torch.tensor(sourceTensor).\n",
            "  sequences = [torch.tensor(item[\"input_ids\"], dtype=torch.long) for item in batch]\n"
          ]
        },
        {
          "name": "stdout",
          "output_type": "stream",
          "text": [
            "Evaluating: 100%|██████████| 196/196 [00:02<00:00, 69.63batches/s]\n",
            "Unique values in predictions: (array([0, 1]), array([1912, 4338]))\n",
            "Unique values in labels: (array([0., 1.], dtype=float32), array([2500, 3750]))\n",
            "Epoch 2 - Config 2: Train Loss = 0.6440, Train Acc = 0.6407, Train F1 = 0.5850, Val Loss = 0.6282, Val Acc = 0.6720, Val F1 = 0.7465, Reg F1 = 0.7465\n",
            "\n",
            "Training epoch 3 for config 2...\n",
            "Training:   0%|          | 0/586 [00:00<?, ?batches/s]"
          ]
        },
        {
          "name": "stderr",
          "output_type": "stream",
          "text": [
            "<ipython-input-12-695c2b96817b>:3: UserWarning: To copy construct from a tensor, it is recommended to use sourceTensor.clone().detach() or sourceTensor.clone().detach().requires_grad_(True), rather than torch.tensor(sourceTensor).\n",
            "  sequences = [torch.tensor(item[\"input_ids\"], dtype=torch.long) for item in batch]\n",
            "<ipython-input-12-695c2b96817b>:3: UserWarning: To copy construct from a tensor, it is recommended to use sourceTensor.clone().detach() or sourceTensor.clone().detach().requires_grad_(True), rather than torch.tensor(sourceTensor).\n",
            "  sequences = [torch.tensor(item[\"input_ids\"], dtype=torch.long) for item in batch]\n"
          ]
        },
        {
          "name": "stdout",
          "output_type": "stream",
          "text": [
            "Training: 100%|██████████| 586/586 [00:23<00:00, 25.40batches/s]\n",
            "Unique values in predictions: (array([0, 1]), array([10748,  8002]))\n",
            "Unique values in labels: (array([0., 1.], dtype=float32), array([10000,  8750]))\n",
            "Evaluating:   0%|          | 0/196 [00:00<?, ?batches/s]"
          ]
        },
        {
          "name": "stderr",
          "output_type": "stream",
          "text": [
            "<ipython-input-12-695c2b96817b>:3: UserWarning: To copy construct from a tensor, it is recommended to use sourceTensor.clone().detach() or sourceTensor.clone().detach().requires_grad_(True), rather than torch.tensor(sourceTensor).\n",
            "  sequences = [torch.tensor(item[\"input_ids\"], dtype=torch.long) for item in batch]\n",
            "<ipython-input-12-695c2b96817b>:3: UserWarning: To copy construct from a tensor, it is recommended to use sourceTensor.clone().detach() or sourceTensor.clone().detach().requires_grad_(True), rather than torch.tensor(sourceTensor).\n",
            "  sequences = [torch.tensor(item[\"input_ids\"], dtype=torch.long) for item in batch]\n"
          ]
        },
        {
          "name": "stdout",
          "output_type": "stream",
          "text": [
            "Evaluating: 100%|██████████| 196/196 [00:02<00:00, 70.55batches/s]\n",
            "Unique values in predictions: (array([0, 1]), array([2521, 3729]))\n",
            "Unique values in labels: (array([0., 1.], dtype=float32), array([2500, 3750]))\n",
            "Epoch 3 - Config 2: Train Loss = 0.6221, Train Acc = 0.6681, Train F1 = 0.6285, Val Loss = 0.6255, Val Acc = 0.6830, Val F1 = 0.7351, Reg F1 = 0.7351\n",
            "\n",
            "Training epoch 4 for config 2...\n",
            "Training:   0%|          | 0/586 [00:00<?, ?batches/s]"
          ]
        },
        {
          "name": "stderr",
          "output_type": "stream",
          "text": [
            "<ipython-input-12-695c2b96817b>:3: UserWarning: To copy construct from a tensor, it is recommended to use sourceTensor.clone().detach() or sourceTensor.clone().detach().requires_grad_(True), rather than torch.tensor(sourceTensor).\n",
            "  sequences = [torch.tensor(item[\"input_ids\"], dtype=torch.long) for item in batch]\n",
            "<ipython-input-12-695c2b96817b>:3: UserWarning: To copy construct from a tensor, it is recommended to use sourceTensor.clone().detach() or sourceTensor.clone().detach().requires_grad_(True), rather than torch.tensor(sourceTensor).\n",
            "  sequences = [torch.tensor(item[\"input_ids\"], dtype=torch.long) for item in batch]\n"
          ]
        },
        {
          "name": "stdout",
          "output_type": "stream",
          "text": [
            "Training: 100%|██████████| 586/586 [00:21<00:00, 26.98batches/s]\n",
            "Unique values in predictions: (array([0, 1]), array([10527,  8223]))\n",
            "Unique values in labels: (array([0., 1.], dtype=float32), array([10000,  8750]))\n",
            "Evaluating:   0%|          | 0/196 [00:00<?, ?batches/s]"
          ]
        },
        {
          "name": "stderr",
          "output_type": "stream",
          "text": [
            "<ipython-input-12-695c2b96817b>:3: UserWarning: To copy construct from a tensor, it is recommended to use sourceTensor.clone().detach() or sourceTensor.clone().detach().requires_grad_(True), rather than torch.tensor(sourceTensor).\n",
            "  sequences = [torch.tensor(item[\"input_ids\"], dtype=torch.long) for item in batch]\n",
            "<ipython-input-12-695c2b96817b>:3: UserWarning: To copy construct from a tensor, it is recommended to use sourceTensor.clone().detach() or sourceTensor.clone().detach().requires_grad_(True), rather than torch.tensor(sourceTensor).\n",
            "  sequences = [torch.tensor(item[\"input_ids\"], dtype=torch.long) for item in batch]\n"
          ]
        },
        {
          "name": "stdout",
          "output_type": "stream",
          "text": [
            "Evaluating: 100%|██████████| 196/196 [00:04<00:00, 48.21batches/s]\n",
            "Unique values in predictions: (array([0, 1]), array([2557, 3693]))\n",
            "Unique values in labels: (array([0., 1.], dtype=float32), array([2500, 3750]))\n",
            "Epoch 4 - Config 2: Train Loss = 0.6059, Train Acc = 0.6818, Train F1 = 0.6484, Val Loss = 0.6176, Val Acc = 0.7006, Val F1 = 0.7486, Reg F1 = 0.7486\n",
            "\n",
            "Training epoch 5 for config 2...\n",
            "Training:   0%|          | 0/586 [00:00<?, ?batches/s]"
          ]
        },
        {
          "name": "stderr",
          "output_type": "stream",
          "text": [
            "<ipython-input-12-695c2b96817b>:3: UserWarning: To copy construct from a tensor, it is recommended to use sourceTensor.clone().detach() or sourceTensor.clone().detach().requires_grad_(True), rather than torch.tensor(sourceTensor).\n",
            "  sequences = [torch.tensor(item[\"input_ids\"], dtype=torch.long) for item in batch]\n",
            "<ipython-input-12-695c2b96817b>:3: UserWarning: To copy construct from a tensor, it is recommended to use sourceTensor.clone().detach() or sourceTensor.clone().detach().requires_grad_(True), rather than torch.tensor(sourceTensor).\n",
            "  sequences = [torch.tensor(item[\"input_ids\"], dtype=torch.long) for item in batch]\n"
          ]
        },
        {
          "name": "stdout",
          "output_type": "stream",
          "text": [
            "Training: 100%|██████████| 586/586 [00:21<00:00, 27.32batches/s]\n",
            "Unique values in predictions: (array([0, 1]), array([10489,  8261]))\n",
            "Unique values in labels: (array([0., 1.], dtype=float32), array([10000,  8750]))\n",
            "Evaluating:   0%|          | 0/196 [00:00<?, ?batches/s]"
          ]
        },
        {
          "name": "stderr",
          "output_type": "stream",
          "text": [
            "<ipython-input-12-695c2b96817b>:3: UserWarning: To copy construct from a tensor, it is recommended to use sourceTensor.clone().detach() or sourceTensor.clone().detach().requires_grad_(True), rather than torch.tensor(sourceTensor).\n",
            "  sequences = [torch.tensor(item[\"input_ids\"], dtype=torch.long) for item in batch]\n",
            "<ipython-input-12-695c2b96817b>:3: UserWarning: To copy construct from a tensor, it is recommended to use sourceTensor.clone().detach() or sourceTensor.clone().detach().requires_grad_(True), rather than torch.tensor(sourceTensor).\n",
            "  sequences = [torch.tensor(item[\"input_ids\"], dtype=torch.long) for item in batch]\n"
          ]
        },
        {
          "name": "stdout",
          "output_type": "stream",
          "text": [
            "Evaluating: 100%|██████████| 196/196 [00:02<00:00, 71.15batches/s]\n",
            "Unique values in predictions: (array([0, 1]), array([3044, 3206]))\n",
            "Unique values in labels: (array([0., 1.], dtype=float32), array([2500, 3750]))\n",
            "Epoch 5 - Config 2: Train Loss = 0.5829, Train Acc = 0.7053, Train F1 = 0.6752, Val Loss = 0.6123, Val Acc = 0.7053, Val F1 = 0.7352, Reg F1 = 0.7352\n",
            "\n",
            "Training epoch 6 for config 2...\n",
            "Training:   0%|          | 0/586 [00:00<?, ?batches/s]"
          ]
        },
        {
          "name": "stderr",
          "output_type": "stream",
          "text": [
            "<ipython-input-12-695c2b96817b>:3: UserWarning: To copy construct from a tensor, it is recommended to use sourceTensor.clone().detach() or sourceTensor.clone().detach().requires_grad_(True), rather than torch.tensor(sourceTensor).\n",
            "  sequences = [torch.tensor(item[\"input_ids\"], dtype=torch.long) for item in batch]\n",
            "<ipython-input-12-695c2b96817b>:3: UserWarning: To copy construct from a tensor, it is recommended to use sourceTensor.clone().detach() or sourceTensor.clone().detach().requires_grad_(True), rather than torch.tensor(sourceTensor).\n",
            "  sequences = [torch.tensor(item[\"input_ids\"], dtype=torch.long) for item in batch]\n"
          ]
        },
        {
          "name": "stdout",
          "output_type": "stream",
          "text": [
            "Training: 100%|██████████| 586/586 [00:23<00:00, 25.41batches/s]\n",
            "Unique values in predictions: (array([0, 1]), array([10283,  8467]))\n",
            "Unique values in labels: (array([0., 1.], dtype=float32), array([10000,  8750]))\n",
            "Evaluating:   0%|          | 0/196 [00:00<?, ?batches/s]"
          ]
        },
        {
          "name": "stderr",
          "output_type": "stream",
          "text": [
            "<ipython-input-12-695c2b96817b>:3: UserWarning: To copy construct from a tensor, it is recommended to use sourceTensor.clone().detach() or sourceTensor.clone().detach().requires_grad_(True), rather than torch.tensor(sourceTensor).\n",
            "  sequences = [torch.tensor(item[\"input_ids\"], dtype=torch.long) for item in batch]\n",
            "<ipython-input-12-695c2b96817b>:3: UserWarning: To copy construct from a tensor, it is recommended to use sourceTensor.clone().detach() or sourceTensor.clone().detach().requires_grad_(True), rather than torch.tensor(sourceTensor).\n",
            "  sequences = [torch.tensor(item[\"input_ids\"], dtype=torch.long) for item in batch]\n"
          ]
        },
        {
          "name": "stdout",
          "output_type": "stream",
          "text": [
            "Evaluating: 100%|██████████| 196/196 [00:02<00:00, 69.48batches/s]\n",
            "Unique values in predictions: (array([0, 1]), array([3911, 2339]))\n",
            "Unique values in labels: (array([0., 1.], dtype=float32), array([2500, 3750]))\n",
            "Epoch 6 - Config 2: Train Loss = 0.5674, Train Acc = 0.7191, Train F1 = 0.6941, Val Loss = 0.8672, Val Acc = 0.6600, Val F1 = 0.6510, Reg F1 = 0.0000\n",
            "\n",
            "Training epoch 7 for config 2...\n",
            "Training:   0%|          | 0/586 [00:00<?, ?batches/s]"
          ]
        },
        {
          "name": "stderr",
          "output_type": "stream",
          "text": [
            "<ipython-input-12-695c2b96817b>:3: UserWarning: To copy construct from a tensor, it is recommended to use sourceTensor.clone().detach() or sourceTensor.clone().detach().requires_grad_(True), rather than torch.tensor(sourceTensor).\n",
            "  sequences = [torch.tensor(item[\"input_ids\"], dtype=torch.long) for item in batch]\n",
            "<ipython-input-12-695c2b96817b>:3: UserWarning: To copy construct from a tensor, it is recommended to use sourceTensor.clone().detach() or sourceTensor.clone().detach().requires_grad_(True), rather than torch.tensor(sourceTensor).\n",
            "  sequences = [torch.tensor(item[\"input_ids\"], dtype=torch.long) for item in batch]\n"
          ]
        },
        {
          "name": "stdout",
          "output_type": "stream",
          "text": [
            "Training: 100%|██████████| 586/586 [00:22<00:00, 26.47batches/s]\n",
            "Unique values in predictions: (array([0, 1]), array([10280,  8470]))\n",
            "Unique values in labels: (array([0., 1.], dtype=float32), array([10000,  8750]))\n",
            "Evaluating:   0%|          | 0/196 [00:00<?, ?batches/s]"
          ]
        },
        {
          "name": "stderr",
          "output_type": "stream",
          "text": [
            "<ipython-input-12-695c2b96817b>:3: UserWarning: To copy construct from a tensor, it is recommended to use sourceTensor.clone().detach() or sourceTensor.clone().detach().requires_grad_(True), rather than torch.tensor(sourceTensor).\n",
            "  sequences = [torch.tensor(item[\"input_ids\"], dtype=torch.long) for item in batch]\n"
          ]
        },
        {
          "name": "stdout",
          "output_type": "stream",
          "text": [
            "\rEvaluating:   1%|          | 1/196 [00:00<00:43,  4.52batches/s]"
          ]
        },
        {
          "name": "stderr",
          "output_type": "stream",
          "text": [
            "<ipython-input-12-695c2b96817b>:3: UserWarning: To copy construct from a tensor, it is recommended to use sourceTensor.clone().detach() or sourceTensor.clone().detach().requires_grad_(True), rather than torch.tensor(sourceTensor).\n",
            "  sequences = [torch.tensor(item[\"input_ids\"], dtype=torch.long) for item in batch]\n"
          ]
        },
        {
          "name": "stdout",
          "output_type": "stream",
          "text": [
            "Evaluating: 100%|██████████| 196/196 [00:03<00:00, 57.01batches/s]\n",
            "Unique values in predictions: (array([0, 1]), array([2563, 3687]))\n",
            "Unique values in labels: (array([0., 1.], dtype=float32), array([2500, 3750]))\n",
            "Epoch 7 - Config 2: Train Loss = 0.5500, Train Acc = 0.7343, Train F1 = 0.7107, Val Loss = 0.5351, Val Acc = 0.7496, Val F1 = 0.7896, Reg F1 = 0.7896\n",
            "\n",
            "Training epoch 8 for config 2...\n",
            "Training:   0%|          | 0/586 [00:00<?, ?batches/s]"
          ]
        },
        {
          "name": "stderr",
          "output_type": "stream",
          "text": [
            "<ipython-input-12-695c2b96817b>:3: UserWarning: To copy construct from a tensor, it is recommended to use sourceTensor.clone().detach() or sourceTensor.clone().detach().requires_grad_(True), rather than torch.tensor(sourceTensor).\n",
            "  sequences = [torch.tensor(item[\"input_ids\"], dtype=torch.long) for item in batch]\n",
            "<ipython-input-12-695c2b96817b>:3: UserWarning: To copy construct from a tensor, it is recommended to use sourceTensor.clone().detach() or sourceTensor.clone().detach().requires_grad_(True), rather than torch.tensor(sourceTensor).\n",
            "  sequences = [torch.tensor(item[\"input_ids\"], dtype=torch.long) for item in batch]\n"
          ]
        },
        {
          "name": "stdout",
          "output_type": "stream",
          "text": [
            "Training: 100%|██████████| 586/586 [00:21<00:00, 27.43batches/s]\n",
            "Unique values in predictions: (array([0, 1]), array([10279,  8471]))\n",
            "Unique values in labels: (array([0., 1.], dtype=float32), array([10000,  8750]))\n",
            "Evaluating:   0%|          | 0/196 [00:00<?, ?batches/s]"
          ]
        },
        {
          "name": "stderr",
          "output_type": "stream",
          "text": [
            "<ipython-input-12-695c2b96817b>:3: UserWarning: To copy construct from a tensor, it is recommended to use sourceTensor.clone().detach() or sourceTensor.clone().detach().requires_grad_(True), rather than torch.tensor(sourceTensor).\n",
            "  sequences = [torch.tensor(item[\"input_ids\"], dtype=torch.long) for item in batch]\n",
            "<ipython-input-12-695c2b96817b>:3: UserWarning: To copy construct from a tensor, it is recommended to use sourceTensor.clone().detach() or sourceTensor.clone().detach().requires_grad_(True), rather than torch.tensor(sourceTensor).\n",
            "  sequences = [torch.tensor(item[\"input_ids\"], dtype=torch.long) for item in batch]\n"
          ]
        },
        {
          "name": "stdout",
          "output_type": "stream",
          "text": [
            "Evaluating: 100%|██████████| 196/196 [00:03<00:00, 58.60batches/s]\n",
            "Unique values in predictions: (array([0, 1]), array([3101, 3149]))\n",
            "Unique values in labels: (array([0., 1.], dtype=float32), array([2500, 3750]))\n",
            "Epoch 8 - Config 2: Train Loss = 0.5292, Train Acc = 0.7462, Train F1 = 0.7237, Val Loss = 0.5383, Val Acc = 0.7486, Val F1 = 0.7723, Reg F1 = 0.7723\n",
            "\n",
            "Training epoch 9 for config 2...\n",
            "Training:   0%|          | 0/586 [00:00<?, ?batches/s]"
          ]
        },
        {
          "name": "stderr",
          "output_type": "stream",
          "text": [
            "<ipython-input-12-695c2b96817b>:3: UserWarning: To copy construct from a tensor, it is recommended to use sourceTensor.clone().detach() or sourceTensor.clone().detach().requires_grad_(True), rather than torch.tensor(sourceTensor).\n",
            "  sequences = [torch.tensor(item[\"input_ids\"], dtype=torch.long) for item in batch]\n",
            "<ipython-input-12-695c2b96817b>:3: UserWarning: To copy construct from a tensor, it is recommended to use sourceTensor.clone().detach() or sourceTensor.clone().detach().requires_grad_(True), rather than torch.tensor(sourceTensor).\n",
            "  sequences = [torch.tensor(item[\"input_ids\"], dtype=torch.long) for item in batch]\n"
          ]
        },
        {
          "name": "stdout",
          "output_type": "stream",
          "text": [
            "Training: 100%|██████████| 586/586 [00:24<00:00, 23.65batches/s]\n",
            "Unique values in predictions: (array([0, 1]), array([10212,  8538]))\n",
            "Unique values in labels: (array([0., 1.], dtype=float32), array([10000,  8750]))\n",
            "Evaluating:   0%|          | 0/196 [00:00<?, ?batches/s]"
          ]
        },
        {
          "name": "stderr",
          "output_type": "stream",
          "text": [
            "<ipython-input-12-695c2b96817b>:3: UserWarning: To copy construct from a tensor, it is recommended to use sourceTensor.clone().detach() or sourceTensor.clone().detach().requires_grad_(True), rather than torch.tensor(sourceTensor).\n",
            "  sequences = [torch.tensor(item[\"input_ids\"], dtype=torch.long) for item in batch]\n",
            "<ipython-input-12-695c2b96817b>:3: UserWarning: To copy construct from a tensor, it is recommended to use sourceTensor.clone().detach() or sourceTensor.clone().detach().requires_grad_(True), rather than torch.tensor(sourceTensor).\n",
            "  sequences = [torch.tensor(item[\"input_ids\"], dtype=torch.long) for item in batch]\n"
          ]
        },
        {
          "name": "stdout",
          "output_type": "stream",
          "text": [
            "Evaluating: 100%|██████████| 196/196 [00:02<00:00, 70.37batches/s]\n",
            "Unique values in predictions: (array([0, 1]), array([3023, 3227]))\n",
            "Unique values in labels: (array([0., 1.], dtype=float32), array([2500, 3750]))\n",
            "Epoch 9 - Config 2: Train Loss = 0.5149, Train Acc = 0.7613, Train F1 = 0.7411, Val Loss = 0.5512, Val Acc = 0.7547, Val F1 = 0.7803, Reg F1 = 0.7803\n",
            "\n",
            "Training epoch 10 for config 2...\n",
            "Training:   0%|          | 0/586 [00:00<?, ?batches/s]"
          ]
        },
        {
          "name": "stderr",
          "output_type": "stream",
          "text": [
            "<ipython-input-12-695c2b96817b>:3: UserWarning: To copy construct from a tensor, it is recommended to use sourceTensor.clone().detach() or sourceTensor.clone().detach().requires_grad_(True), rather than torch.tensor(sourceTensor).\n",
            "  sequences = [torch.tensor(item[\"input_ids\"], dtype=torch.long) for item in batch]\n",
            "<ipython-input-12-695c2b96817b>:3: UserWarning: To copy construct from a tensor, it is recommended to use sourceTensor.clone().detach() or sourceTensor.clone().detach().requires_grad_(True), rather than torch.tensor(sourceTensor).\n",
            "  sequences = [torch.tensor(item[\"input_ids\"], dtype=torch.long) for item in batch]\n"
          ]
        },
        {
          "name": "stdout",
          "output_type": "stream",
          "text": [
            "Training: 100%|██████████| 586/586 [00:22<00:00, 26.15batches/s]\n",
            "Unique values in predictions: (array([0, 1]), array([10109,  8641]))\n",
            "Unique values in labels: (array([0., 1.], dtype=float32), array([10000,  8750]))\n",
            "Evaluating:   0%|          | 0/196 [00:00<?, ?batches/s]"
          ]
        },
        {
          "name": "stderr",
          "output_type": "stream",
          "text": [
            "<ipython-input-12-695c2b96817b>:3: UserWarning: To copy construct from a tensor, it is recommended to use sourceTensor.clone().detach() or sourceTensor.clone().detach().requires_grad_(True), rather than torch.tensor(sourceTensor).\n",
            "  sequences = [torch.tensor(item[\"input_ids\"], dtype=torch.long) for item in batch]\n",
            "<ipython-input-12-695c2b96817b>:3: UserWarning: To copy construct from a tensor, it is recommended to use sourceTensor.clone().detach() or sourceTensor.clone().detach().requires_grad_(True), rather than torch.tensor(sourceTensor).\n",
            "  sequences = [torch.tensor(item[\"input_ids\"], dtype=torch.long) for item in batch]\n"
          ]
        },
        {
          "name": "stdout",
          "output_type": "stream",
          "text": [
            "Evaluating: 100%|██████████| 196/196 [00:02<00:00, 67.16batches/s]\n",
            "Unique values in predictions: (array([0, 1]), array([2651, 3599]))\n",
            "Unique values in labels: (array([0., 1.], dtype=float32), array([2500, 3750]))\n",
            "Epoch 10 - Config 2: Train Loss = 0.4965, Train Acc = 0.7711, Train F1 = 0.7533, Val Loss = 0.4996, Val Acc = 0.7723, Val F1 = 0.8064, Reg F1 = 0.8064\n",
            "\n",
            "Training epoch 11 for config 2...\n",
            "Training:   0%|          | 0/586 [00:00<?, ?batches/s]"
          ]
        },
        {
          "name": "stderr",
          "output_type": "stream",
          "text": [
            "<ipython-input-12-695c2b96817b>:3: UserWarning: To copy construct from a tensor, it is recommended to use sourceTensor.clone().detach() or sourceTensor.clone().detach().requires_grad_(True), rather than torch.tensor(sourceTensor).\n",
            "  sequences = [torch.tensor(item[\"input_ids\"], dtype=torch.long) for item in batch]\n",
            "<ipython-input-12-695c2b96817b>:3: UserWarning: To copy construct from a tensor, it is recommended to use sourceTensor.clone().detach() or sourceTensor.clone().detach().requires_grad_(True), rather than torch.tensor(sourceTensor).\n",
            "  sequences = [torch.tensor(item[\"input_ids\"], dtype=torch.long) for item in batch]\n"
          ]
        },
        {
          "name": "stdout",
          "output_type": "stream",
          "text": [
            "Training: 100%|██████████| 586/586 [00:21<00:00, 27.27batches/s]\n",
            "Unique values in predictions: (array([0, 1]), array([10197,  8553]))\n",
            "Unique values in labels: (array([0., 1.], dtype=float32), array([10000,  8750]))\n",
            "Evaluating:   0%|          | 0/196 [00:00<?, ?batches/s]"
          ]
        },
        {
          "name": "stderr",
          "output_type": "stream",
          "text": [
            "<ipython-input-12-695c2b96817b>:3: UserWarning: To copy construct from a tensor, it is recommended to use sourceTensor.clone().detach() or sourceTensor.clone().detach().requires_grad_(True), rather than torch.tensor(sourceTensor).\n",
            "  sequences = [torch.tensor(item[\"input_ids\"], dtype=torch.long) for item in batch]\n",
            "<ipython-input-12-695c2b96817b>:3: UserWarning: To copy construct from a tensor, it is recommended to use sourceTensor.clone().detach() or sourceTensor.clone().detach().requires_grad_(True), rather than torch.tensor(sourceTensor).\n",
            "  sequences = [torch.tensor(item[\"input_ids\"], dtype=torch.long) for item in batch]\n"
          ]
        },
        {
          "name": "stdout",
          "output_type": "stream",
          "text": [
            "Evaluating: 100%|██████████| 196/196 [00:03<00:00, 61.36batches/s]\n",
            "Unique values in predictions: (array([0, 1]), array([2706, 3544]))\n",
            "Unique values in labels: (array([0., 1.], dtype=float32), array([2500, 3750]))\n",
            "Epoch 11 - Config 2: Train Loss = 0.4854, Train Acc = 0.7769, Train F1 = 0.7583, Val Loss = 0.5036, Val Acc = 0.7786, Val F1 = 0.8103, Reg F1 = 0.8103\n",
            "\n",
            "Training epoch 12 for config 2...\n",
            "Training:   0%|          | 0/586 [00:00<?, ?batches/s]"
          ]
        },
        {
          "name": "stderr",
          "output_type": "stream",
          "text": [
            "<ipython-input-12-695c2b96817b>:3: UserWarning: To copy construct from a tensor, it is recommended to use sourceTensor.clone().detach() or sourceTensor.clone().detach().requires_grad_(True), rather than torch.tensor(sourceTensor).\n",
            "  sequences = [torch.tensor(item[\"input_ids\"], dtype=torch.long) for item in batch]\n",
            "<ipython-input-12-695c2b96817b>:3: UserWarning: To copy construct from a tensor, it is recommended to use sourceTensor.clone().detach() or sourceTensor.clone().detach().requires_grad_(True), rather than torch.tensor(sourceTensor).\n",
            "  sequences = [torch.tensor(item[\"input_ids\"], dtype=torch.long) for item in batch]\n"
          ]
        },
        {
          "name": "stdout",
          "output_type": "stream",
          "text": [
            "Training: 100%|██████████| 586/586 [00:22<00:00, 26.43batches/s]\n",
            "Unique values in predictions: (array([0, 1]), array([10159,  8591]))\n",
            "Unique values in labels: (array([0., 1.], dtype=float32), array([10000,  8750]))\n",
            "Evaluating:   0%|          | 0/196 [00:00<?, ?batches/s]"
          ]
        },
        {
          "name": "stderr",
          "output_type": "stream",
          "text": [
            "<ipython-input-12-695c2b96817b>:3: UserWarning: To copy construct from a tensor, it is recommended to use sourceTensor.clone().detach() or sourceTensor.clone().detach().requires_grad_(True), rather than torch.tensor(sourceTensor).\n",
            "  sequences = [torch.tensor(item[\"input_ids\"], dtype=torch.long) for item in batch]\n",
            "<ipython-input-12-695c2b96817b>:3: UserWarning: To copy construct from a tensor, it is recommended to use sourceTensor.clone().detach() or sourceTensor.clone().detach().requires_grad_(True), rather than torch.tensor(sourceTensor).\n",
            "  sequences = [torch.tensor(item[\"input_ids\"], dtype=torch.long) for item in batch]\n"
          ]
        },
        {
          "name": "stdout",
          "output_type": "stream",
          "text": [
            "Evaluating: 100%|██████████| 196/196 [00:02<00:00, 71.50batches/s]\n",
            "Unique values in predictions: (array([0, 1]), array([3322, 2928]))\n",
            "Unique values in labels: (array([0., 1.], dtype=float32), array([2500, 3750]))\n",
            "Epoch 12 - Config 2: Train Loss = 0.4722, Train Acc = 0.7867, Train F1 = 0.7694, Val Loss = 0.5447, Val Acc = 0.7546, Val F1 = 0.7703, Reg F1 = 0.7703\n",
            "\n",
            "Training epoch 13 for config 2...\n",
            "Training:   0%|          | 0/586 [00:00<?, ?batches/s]"
          ]
        },
        {
          "name": "stderr",
          "output_type": "stream",
          "text": [
            "<ipython-input-12-695c2b96817b>:3: UserWarning: To copy construct from a tensor, it is recommended to use sourceTensor.clone().detach() or sourceTensor.clone().detach().requires_grad_(True), rather than torch.tensor(sourceTensor).\n",
            "  sequences = [torch.tensor(item[\"input_ids\"], dtype=torch.long) for item in batch]\n",
            "<ipython-input-12-695c2b96817b>:3: UserWarning: To copy construct from a tensor, it is recommended to use sourceTensor.clone().detach() or sourceTensor.clone().detach().requires_grad_(True), rather than torch.tensor(sourceTensor).\n",
            "  sequences = [torch.tensor(item[\"input_ids\"], dtype=torch.long) for item in batch]\n"
          ]
        },
        {
          "name": "stdout",
          "output_type": "stream",
          "text": [
            "Training: 100%|██████████| 586/586 [00:22<00:00, 25.95batches/s]\n",
            "Unique values in predictions: (array([0, 1]), array([10120,  8630]))\n",
            "Unique values in labels: (array([0., 1.], dtype=float32), array([10000,  8750]))\n",
            "Evaluating:   0%|          | 0/196 [00:00<?, ?batches/s]"
          ]
        },
        {
          "name": "stderr",
          "output_type": "stream",
          "text": [
            "<ipython-input-12-695c2b96817b>:3: UserWarning: To copy construct from a tensor, it is recommended to use sourceTensor.clone().detach() or sourceTensor.clone().detach().requires_grad_(True), rather than torch.tensor(sourceTensor).\n",
            "  sequences = [torch.tensor(item[\"input_ids\"], dtype=torch.long) for item in batch]\n",
            "<ipython-input-12-695c2b96817b>:3: UserWarning: To copy construct from a tensor, it is recommended to use sourceTensor.clone().detach() or sourceTensor.clone().detach().requires_grad_(True), rather than torch.tensor(sourceTensor).\n",
            "  sequences = [torch.tensor(item[\"input_ids\"], dtype=torch.long) for item in batch]\n"
          ]
        },
        {
          "name": "stdout",
          "output_type": "stream",
          "text": [
            "Evaluating: 100%|██████████| 196/196 [00:02<00:00, 65.35batches/s]\n",
            "Unique values in predictions: (array([0, 1]), array([2910, 3340]))\n",
            "Unique values in labels: (array([0., 1.], dtype=float32), array([2500, 3750]))\n",
            "Epoch 13 - Config 2: Train Loss = 0.4578, Train Acc = 0.7967, Train F1 = 0.7807, Val Loss = 0.4959, Val Acc = 0.7818, Val F1 = 0.8076, Reg F1 = 0.8076\n",
            "\n",
            "Training epoch 14 for config 2...\n",
            "Training:   0%|          | 0/586 [00:00<?, ?batches/s]"
          ]
        },
        {
          "name": "stderr",
          "output_type": "stream",
          "text": [
            "<ipython-input-12-695c2b96817b>:3: UserWarning: To copy construct from a tensor, it is recommended to use sourceTensor.clone().detach() or sourceTensor.clone().detach().requires_grad_(True), rather than torch.tensor(sourceTensor).\n",
            "  sequences = [torch.tensor(item[\"input_ids\"], dtype=torch.long) for item in batch]\n",
            "<ipython-input-12-695c2b96817b>:3: UserWarning: To copy construct from a tensor, it is recommended to use sourceTensor.clone().detach() or sourceTensor.clone().detach().requires_grad_(True), rather than torch.tensor(sourceTensor).\n",
            "  sequences = [torch.tensor(item[\"input_ids\"], dtype=torch.long) for item in batch]\n"
          ]
        },
        {
          "name": "stdout",
          "output_type": "stream",
          "text": [
            "Training: 100%|██████████| 586/586 [00:21<00:00, 27.65batches/s]\n",
            "Unique values in predictions: (array([0, 1]), array([10108,  8642]))\n",
            "Unique values in labels: (array([0., 1.], dtype=float32), array([10000,  8750]))\n",
            "Evaluating:   0%|          | 0/196 [00:00<?, ?batches/s]"
          ]
        },
        {
          "name": "stderr",
          "output_type": "stream",
          "text": [
            "<ipython-input-12-695c2b96817b>:3: UserWarning: To copy construct from a tensor, it is recommended to use sourceTensor.clone().detach() or sourceTensor.clone().detach().requires_grad_(True), rather than torch.tensor(sourceTensor).\n",
            "  sequences = [torch.tensor(item[\"input_ids\"], dtype=torch.long) for item in batch]\n",
            "<ipython-input-12-695c2b96817b>:3: UserWarning: To copy construct from a tensor, it is recommended to use sourceTensor.clone().detach() or sourceTensor.clone().detach().requires_grad_(True), rather than torch.tensor(sourceTensor).\n",
            "  sequences = [torch.tensor(item[\"input_ids\"], dtype=torch.long) for item in batch]\n"
          ]
        },
        {
          "name": "stdout",
          "output_type": "stream",
          "text": [
            "Evaluating: 100%|██████████| 196/196 [00:03<00:00, 53.72batches/s]\n",
            "Unique values in predictions: (array([0, 1]), array([3060, 3190]))\n",
            "Unique values in labels: (array([0., 1.], dtype=float32), array([2500, 3750]))\n",
            "Epoch 14 - Config 2: Train Loss = 0.4503, Train Acc = 0.8007, Train F1 = 0.7852, Val Loss = 0.4955, Val Acc = 0.7760, Val F1 = 0.7983, Reg F1 = 0.7983\n",
            "Early stopping in configuration 2 at epoch 14 due to no improvement.\n",
            "\n",
            "Running configuration 3...\n",
            "\n",
            "Training epoch 1 for config 3...\n",
            "Training:   0%|          | 0/586 [00:00<?, ?batches/s]"
          ]
        },
        {
          "name": "stderr",
          "output_type": "stream",
          "text": [
            "<ipython-input-12-695c2b96817b>:3: UserWarning: To copy construct from a tensor, it is recommended to use sourceTensor.clone().detach() or sourceTensor.clone().detach().requires_grad_(True), rather than torch.tensor(sourceTensor).\n",
            "  sequences = [torch.tensor(item[\"input_ids\"], dtype=torch.long) for item in batch]\n",
            "<ipython-input-12-695c2b96817b>:3: UserWarning: To copy construct from a tensor, it is recommended to use sourceTensor.clone().detach() or sourceTensor.clone().detach().requires_grad_(True), rather than torch.tensor(sourceTensor).\n",
            "  sequences = [torch.tensor(item[\"input_ids\"], dtype=torch.long) for item in batch]\n"
          ]
        },
        {
          "name": "stdout",
          "output_type": "stream",
          "text": [
            "Training: 100%|██████████| 586/586 [00:23<00:00, 25.00batches/s]\n",
            "Unique values in predictions: (array([0, 1]), array([14107,  4643]))\n",
            "Unique values in labels: (array([0., 1.], dtype=float32), array([10000,  8750]))\n",
            "Evaluating:   0%|          | 0/196 [00:00<?, ?batches/s]"
          ]
        },
        {
          "name": "stderr",
          "output_type": "stream",
          "text": [
            "<ipython-input-12-695c2b96817b>:3: UserWarning: To copy construct from a tensor, it is recommended to use sourceTensor.clone().detach() or sourceTensor.clone().detach().requires_grad_(True), rather than torch.tensor(sourceTensor).\n",
            "  sequences = [torch.tensor(item[\"input_ids\"], dtype=torch.long) for item in batch]\n",
            "<ipython-input-12-695c2b96817b>:3: UserWarning: To copy construct from a tensor, it is recommended to use sourceTensor.clone().detach() or sourceTensor.clone().detach().requires_grad_(True), rather than torch.tensor(sourceTensor).\n",
            "  sequences = [torch.tensor(item[\"input_ids\"], dtype=torch.long) for item in batch]\n"
          ]
        },
        {
          "name": "stdout",
          "output_type": "stream",
          "text": [
            "Evaluating: 100%|██████████| 196/196 [00:02<00:00, 65.84batches/s]\n",
            "Unique values in predictions: (array([0, 1]), array([3975, 2275]))\n",
            "Unique values in labels: (array([0., 1.], dtype=float32), array([2500, 3750]))\n",
            "Epoch 1 - Config 3: Train Loss = 0.6346, Train Acc = 0.6260, Train F1 = 0.4764, Val Loss = 1.0686, Val Acc = 0.6510, Val F1 = 0.6380, Reg F1 = 0.6380\n",
            "\n",
            "Training epoch 2 for config 3...\n",
            "Training:   0%|          | 0/586 [00:00<?, ?batches/s]"
          ]
        },
        {
          "name": "stderr",
          "output_type": "stream",
          "text": [
            "<ipython-input-12-695c2b96817b>:3: UserWarning: To copy construct from a tensor, it is recommended to use sourceTensor.clone().detach() or sourceTensor.clone().detach().requires_grad_(True), rather than torch.tensor(sourceTensor).\n",
            "  sequences = [torch.tensor(item[\"input_ids\"], dtype=torch.long) for item in batch]\n",
            "<ipython-input-12-695c2b96817b>:3: UserWarning: To copy construct from a tensor, it is recommended to use sourceTensor.clone().detach() or sourceTensor.clone().detach().requires_grad_(True), rather than torch.tensor(sourceTensor).\n",
            "  sequences = [torch.tensor(item[\"input_ids\"], dtype=torch.long) for item in batch]\n"
          ]
        },
        {
          "name": "stdout",
          "output_type": "stream",
          "text": [
            "Training: 100%|██████████| 586/586 [00:23<00:00, 24.45batches/s]\n",
            "Unique values in predictions: (array([0, 1]), array([10223,  8527]))\n",
            "Unique values in labels: (array([0., 1.], dtype=float32), array([10000,  8750]))\n",
            "Evaluating:   0%|          | 0/196 [00:00<?, ?batches/s]"
          ]
        },
        {
          "name": "stderr",
          "output_type": "stream",
          "text": [
            "<ipython-input-12-695c2b96817b>:3: UserWarning: To copy construct from a tensor, it is recommended to use sourceTensor.clone().detach() or sourceTensor.clone().detach().requires_grad_(True), rather than torch.tensor(sourceTensor).\n",
            "  sequences = [torch.tensor(item[\"input_ids\"], dtype=torch.long) for item in batch]\n",
            "<ipython-input-12-695c2b96817b>:3: UserWarning: To copy construct from a tensor, it is recommended to use sourceTensor.clone().detach() or sourceTensor.clone().detach().requires_grad_(True), rather than torch.tensor(sourceTensor).\n",
            "  sequences = [torch.tensor(item[\"input_ids\"], dtype=torch.long) for item in batch]\n"
          ]
        },
        {
          "name": "stdout",
          "output_type": "stream",
          "text": [
            "Evaluating: 100%|██████████| 196/196 [00:02<00:00, 70.30batches/s]\n",
            "Unique values in predictions: (array([0, 1]), array([3991, 2259]))\n",
            "Unique values in labels: (array([0., 1.], dtype=float32), array([2500, 3750]))\n",
            "Epoch 2 - Config 3: Train Loss = 0.5170, Train Acc = 0.7525, Train F1 = 0.7314, Val Loss = 1.3031, Val Acc = 0.6779, Val F1 = 0.6650, Reg F1 = 0.0000\n",
            "\n",
            "Training epoch 3 for config 3...\n",
            "Training:   0%|          | 0/586 [00:00<?, ?batches/s]"
          ]
        },
        {
          "name": "stderr",
          "output_type": "stream",
          "text": [
            "<ipython-input-12-695c2b96817b>:3: UserWarning: To copy construct from a tensor, it is recommended to use sourceTensor.clone().detach() or sourceTensor.clone().detach().requires_grad_(True), rather than torch.tensor(sourceTensor).\n",
            "  sequences = [torch.tensor(item[\"input_ids\"], dtype=torch.long) for item in batch]\n",
            "<ipython-input-12-695c2b96817b>:3: UserWarning: To copy construct from a tensor, it is recommended to use sourceTensor.clone().detach() or sourceTensor.clone().detach().requires_grad_(True), rather than torch.tensor(sourceTensor).\n",
            "  sequences = [torch.tensor(item[\"input_ids\"], dtype=torch.long) for item in batch]\n"
          ]
        },
        {
          "name": "stdout",
          "output_type": "stream",
          "text": [
            "Training: 100%|██████████| 586/586 [00:25<00:00, 23.00batches/s]\n",
            "Unique values in predictions: (array([0, 1]), array([10137,  8613]))\n",
            "Unique values in labels: (array([0., 1.], dtype=float32), array([10000,  8750]))\n",
            "Evaluating:   0%|          | 0/196 [00:00<?, ?batches/s]"
          ]
        },
        {
          "name": "stderr",
          "output_type": "stream",
          "text": [
            "<ipython-input-12-695c2b96817b>:3: UserWarning: To copy construct from a tensor, it is recommended to use sourceTensor.clone().detach() or sourceTensor.clone().detach().requires_grad_(True), rather than torch.tensor(sourceTensor).\n",
            "  sequences = [torch.tensor(item[\"input_ids\"], dtype=torch.long) for item in batch]\n",
            "<ipython-input-12-695c2b96817b>:3: UserWarning: To copy construct from a tensor, it is recommended to use sourceTensor.clone().detach() or sourceTensor.clone().detach().requires_grad_(True), rather than torch.tensor(sourceTensor).\n",
            "  sequences = [torch.tensor(item[\"input_ids\"], dtype=torch.long) for item in batch]\n"
          ]
        },
        {
          "name": "stdout",
          "output_type": "stream",
          "text": [
            "Evaluating: 100%|██████████| 196/196 [00:02<00:00, 69.99batches/s]\n",
            "Unique values in predictions: (array([0, 1]), array([2932, 3318]))\n",
            "Unique values in labels: (array([0., 1.], dtype=float32), array([2500, 3750]))\n",
            "Epoch 3 - Config 3: Train Loss = 0.4618, Train Acc = 0.7879, Train F1 = 0.7709, Val Loss = 1.1675, Val Acc = 0.7530, Val F1 = 0.7816, Reg F1 = 0.7816\n",
            "\n",
            "Training epoch 4 for config 3...\n",
            "Training:   0%|          | 0/586 [00:00<?, ?batches/s]"
          ]
        },
        {
          "name": "stderr",
          "output_type": "stream",
          "text": [
            "<ipython-input-12-695c2b96817b>:3: UserWarning: To copy construct from a tensor, it is recommended to use sourceTensor.clone().detach() or sourceTensor.clone().detach().requires_grad_(True), rather than torch.tensor(sourceTensor).\n",
            "  sequences = [torch.tensor(item[\"input_ids\"], dtype=torch.long) for item in batch]\n",
            "<ipython-input-12-695c2b96817b>:3: UserWarning: To copy construct from a tensor, it is recommended to use sourceTensor.clone().detach() or sourceTensor.clone().detach().requires_grad_(True), rather than torch.tensor(sourceTensor).\n",
            "  sequences = [torch.tensor(item[\"input_ids\"], dtype=torch.long) for item in batch]\n"
          ]
        },
        {
          "name": "stdout",
          "output_type": "stream",
          "text": [
            "Training: 100%|██████████| 586/586 [00:24<00:00, 24.35batches/s]\n",
            "Unique values in predictions: (array([0, 1]), array([10156,  8594]))\n",
            "Unique values in labels: (array([0., 1.], dtype=float32), array([10000,  8750]))\n",
            "Evaluating:   0%|          | 0/196 [00:00<?, ?batches/s]"
          ]
        },
        {
          "name": "stderr",
          "output_type": "stream",
          "text": [
            "<ipython-input-12-695c2b96817b>:3: UserWarning: To copy construct from a tensor, it is recommended to use sourceTensor.clone().detach() or sourceTensor.clone().detach().requires_grad_(True), rather than torch.tensor(sourceTensor).\n",
            "  sequences = [torch.tensor(item[\"input_ids\"], dtype=torch.long) for item in batch]\n",
            "<ipython-input-12-695c2b96817b>:3: UserWarning: To copy construct from a tensor, it is recommended to use sourceTensor.clone().detach() or sourceTensor.clone().detach().requires_grad_(True), rather than torch.tensor(sourceTensor).\n",
            "  sequences = [torch.tensor(item[\"input_ids\"], dtype=torch.long) for item in batch]\n"
          ]
        },
        {
          "name": "stdout",
          "output_type": "stream",
          "text": [
            "Evaluating: 100%|██████████| 196/196 [00:02<00:00, 71.97batches/s]\n",
            "Unique values in predictions: (array([0, 1]), array([3937, 2313]))\n",
            "Unique values in labels: (array([0., 1.], dtype=float32), array([2500, 3750]))\n",
            "Epoch 4 - Config 3: Train Loss = 0.4295, Train Acc = 0.8067, Train F1 = 0.7911, Val Loss = 1.7370, Val Acc = 0.7058, Val F1 = 0.6967, Reg F1 = 0.0000\n",
            "\n",
            "Training epoch 5 for config 3...\n",
            "Training:   0%|          | 0/586 [00:00<?, ?batches/s]"
          ]
        },
        {
          "name": "stderr",
          "output_type": "stream",
          "text": [
            "<ipython-input-12-695c2b96817b>:3: UserWarning: To copy construct from a tensor, it is recommended to use sourceTensor.clone().detach() or sourceTensor.clone().detach().requires_grad_(True), rather than torch.tensor(sourceTensor).\n",
            "  sequences = [torch.tensor(item[\"input_ids\"], dtype=torch.long) for item in batch]\n",
            "<ipython-input-12-695c2b96817b>:3: UserWarning: To copy construct from a tensor, it is recommended to use sourceTensor.clone().detach() or sourceTensor.clone().detach().requires_grad_(True), rather than torch.tensor(sourceTensor).\n",
            "  sequences = [torch.tensor(item[\"input_ids\"], dtype=torch.long) for item in batch]\n"
          ]
        },
        {
          "name": "stdout",
          "output_type": "stream",
          "text": [
            "Training: 100%|██████████| 586/586 [00:29<00:00, 19.65batches/s]\n",
            "Unique values in predictions: (array([0, 1]), array([10015,  8735]))\n",
            "Unique values in labels: (array([0., 1.], dtype=float32), array([10000,  8750]))\n",
            "Evaluating:   0%|          | 0/196 [00:00<?, ?batches/s]"
          ]
        },
        {
          "name": "stderr",
          "output_type": "stream",
          "text": [
            "<ipython-input-12-695c2b96817b>:3: UserWarning: To copy construct from a tensor, it is recommended to use sourceTensor.clone().detach() or sourceTensor.clone().detach().requires_grad_(True), rather than torch.tensor(sourceTensor).\n",
            "  sequences = [torch.tensor(item[\"input_ids\"], dtype=torch.long) for item in batch]\n",
            "<ipython-input-12-695c2b96817b>:3: UserWarning: To copy construct from a tensor, it is recommended to use sourceTensor.clone().detach() or sourceTensor.clone().detach().requires_grad_(True), rather than torch.tensor(sourceTensor).\n",
            "  sequences = [torch.tensor(item[\"input_ids\"], dtype=torch.long) for item in batch]\n"
          ]
        },
        {
          "name": "stdout",
          "output_type": "stream",
          "text": [
            "Evaluating: 100%|██████████| 196/196 [00:05<00:00, 36.12batches/s]\n",
            "Unique values in predictions: (array([0, 1]), array([2912, 3338]))\n",
            "Unique values in labels: (array([0., 1.], dtype=float32), array([2500, 3750]))\n",
            "Epoch 5 - Config 3: Train Loss = 0.3989, Train Acc = 0.8248, Train F1 = 0.8121, Val Loss = 0.9759, Val Acc = 0.8006, Val F1 = 0.8242, Reg F1 = 0.8242\n",
            "\n",
            "Training epoch 6 for config 3...\n",
            "Training:   0%|          | 0/586 [00:00<?, ?batches/s]"
          ]
        },
        {
          "name": "stderr",
          "output_type": "stream",
          "text": [
            "<ipython-input-12-695c2b96817b>:3: UserWarning: To copy construct from a tensor, it is recommended to use sourceTensor.clone().detach() or sourceTensor.clone().detach().requires_grad_(True), rather than torch.tensor(sourceTensor).\n",
            "  sequences = [torch.tensor(item[\"input_ids\"], dtype=torch.long) for item in batch]\n",
            "<ipython-input-12-695c2b96817b>:3: UserWarning: To copy construct from a tensor, it is recommended to use sourceTensor.clone().detach() or sourceTensor.clone().detach().requires_grad_(True), rather than torch.tensor(sourceTensor).\n",
            "  sequences = [torch.tensor(item[\"input_ids\"], dtype=torch.long) for item in batch]\n"
          ]
        },
        {
          "name": "stdout",
          "output_type": "stream",
          "text": [
            "Training: 100%|██████████| 586/586 [00:25<00:00, 23.41batches/s]\n",
            "Unique values in predictions: (array([0, 1]), array([10092,  8658]))\n",
            "Unique values in labels: (array([0., 1.], dtype=float32), array([10000,  8750]))\n",
            "Evaluating:   0%|          | 0/196 [00:00<?, ?batches/s]"
          ]
        },
        {
          "name": "stderr",
          "output_type": "stream",
          "text": [
            "<ipython-input-12-695c2b96817b>:3: UserWarning: To copy construct from a tensor, it is recommended to use sourceTensor.clone().detach() or sourceTensor.clone().detach().requires_grad_(True), rather than torch.tensor(sourceTensor).\n",
            "  sequences = [torch.tensor(item[\"input_ids\"], dtype=torch.long) for item in batch]\n",
            "<ipython-input-12-695c2b96817b>:3: UserWarning: To copy construct from a tensor, it is recommended to use sourceTensor.clone().detach() or sourceTensor.clone().detach().requires_grad_(True), rather than torch.tensor(sourceTensor).\n",
            "  sequences = [torch.tensor(item[\"input_ids\"], dtype=torch.long) for item in batch]\n"
          ]
        },
        {
          "name": "stdout",
          "output_type": "stream",
          "text": [
            "Evaluating: 100%|██████████| 196/196 [00:02<00:00, 71.70batches/s]\n",
            "Unique values in predictions: (array([0, 1]), array([2866, 3384]))\n",
            "Unique values in labels: (array([0., 1.], dtype=float32), array([2500, 3750]))\n",
            "Epoch 6 - Config 3: Train Loss = 0.3669, Train Acc = 0.8427, Train F1 = 0.8305, Val Loss = 1.0715, Val Acc = 0.7958, Val F1 = 0.8211, Reg F1 = 0.0000\n",
            "\n",
            "Training epoch 7 for config 3...\n",
            "Training:   0%|          | 0/586 [00:00<?, ?batches/s]"
          ]
        },
        {
          "name": "stderr",
          "output_type": "stream",
          "text": [
            "<ipython-input-12-695c2b96817b>:3: UserWarning: To copy construct from a tensor, it is recommended to use sourceTensor.clone().detach() or sourceTensor.clone().detach().requires_grad_(True), rather than torch.tensor(sourceTensor).\n",
            "  sequences = [torch.tensor(item[\"input_ids\"], dtype=torch.long) for item in batch]\n",
            "<ipython-input-12-695c2b96817b>:3: UserWarning: To copy construct from a tensor, it is recommended to use sourceTensor.clone().detach() or sourceTensor.clone().detach().requires_grad_(True), rather than torch.tensor(sourceTensor).\n",
            "  sequences = [torch.tensor(item[\"input_ids\"], dtype=torch.long) for item in batch]\n"
          ]
        },
        {
          "name": "stdout",
          "output_type": "stream",
          "text": [
            "Training: 100%|██████████| 586/586 [00:24<00:00, 23.73batches/s]\n",
            "Unique values in predictions: (array([0, 1]), array([10054,  8696]))\n",
            "Unique values in labels: (array([0., 1.], dtype=float32), array([10000,  8750]))\n",
            "Evaluating:   0%|          | 0/196 [00:00<?, ?batches/s]"
          ]
        },
        {
          "name": "stderr",
          "output_type": "stream",
          "text": [
            "<ipython-input-12-695c2b96817b>:3: UserWarning: To copy construct from a tensor, it is recommended to use sourceTensor.clone().detach() or sourceTensor.clone().detach().requires_grad_(True), rather than torch.tensor(sourceTensor).\n",
            "  sequences = [torch.tensor(item[\"input_ids\"], dtype=torch.long) for item in batch]\n",
            "<ipython-input-12-695c2b96817b>:3: UserWarning: To copy construct from a tensor, it is recommended to use sourceTensor.clone().detach() or sourceTensor.clone().detach().requires_grad_(True), rather than torch.tensor(sourceTensor).\n",
            "  sequences = [torch.tensor(item[\"input_ids\"], dtype=torch.long) for item in batch]\n"
          ]
        },
        {
          "name": "stdout",
          "output_type": "stream",
          "text": [
            "Evaluating: 100%|██████████| 196/196 [00:03<00:00, 65.24batches/s]\n",
            "Unique values in predictions: (array([0, 1]), array([3141, 3109]))\n",
            "Unique values in labels: (array([0., 1.], dtype=float32), array([2500, 3750]))\n",
            "Epoch 7 - Config 3: Train Loss = 0.3483, Train Acc = 0.8515, Train F1 = 0.8404, Val Loss = 1.0304, Val Acc = 0.7890, Val F1 = 0.8077, Reg F1 = 0.0000\n",
            "\n",
            "Training epoch 8 for config 3...\n",
            "Training:   0%|          | 0/586 [00:00<?, ?batches/s]"
          ]
        },
        {
          "name": "stderr",
          "output_type": "stream",
          "text": [
            "<ipython-input-12-695c2b96817b>:3: UserWarning: To copy construct from a tensor, it is recommended to use sourceTensor.clone().detach() or sourceTensor.clone().detach().requires_grad_(True), rather than torch.tensor(sourceTensor).\n",
            "  sequences = [torch.tensor(item[\"input_ids\"], dtype=torch.long) for item in batch]\n",
            "<ipython-input-12-695c2b96817b>:3: UserWarning: To copy construct from a tensor, it is recommended to use sourceTensor.clone().detach() or sourceTensor.clone().detach().requires_grad_(True), rather than torch.tensor(sourceTensor).\n",
            "  sequences = [torch.tensor(item[\"input_ids\"], dtype=torch.long) for item in batch]\n"
          ]
        },
        {
          "name": "stdout",
          "output_type": "stream",
          "text": [
            "Training: 100%|██████████| 586/586 [00:23<00:00, 25.23batches/s]\n",
            "Unique values in predictions: (array([0, 1]), array([10074,  8676]))\n",
            "Unique values in labels: (array([0., 1.], dtype=float32), array([10000,  8750]))\n",
            "Evaluating:   0%|          | 0/196 [00:00<?, ?batches/s]"
          ]
        },
        {
          "name": "stderr",
          "output_type": "stream",
          "text": [
            "<ipython-input-12-695c2b96817b>:3: UserWarning: To copy construct from a tensor, it is recommended to use sourceTensor.clone().detach() or sourceTensor.clone().detach().requires_grad_(True), rather than torch.tensor(sourceTensor).\n",
            "  sequences = [torch.tensor(item[\"input_ids\"], dtype=torch.long) for item in batch]\n",
            "<ipython-input-12-695c2b96817b>:3: UserWarning: To copy construct from a tensor, it is recommended to use sourceTensor.clone().detach() or sourceTensor.clone().detach().requires_grad_(True), rather than torch.tensor(sourceTensor).\n",
            "  sequences = [torch.tensor(item[\"input_ids\"], dtype=torch.long) for item in batch]\n"
          ]
        },
        {
          "name": "stdout",
          "output_type": "stream",
          "text": [
            "Evaluating: 100%|██████████| 196/196 [00:03<00:00, 49.38batches/s]\n",
            "Unique values in predictions: (array([0, 1]), array([3099, 3151]))\n",
            "Unique values in labels: (array([0., 1.], dtype=float32), array([2500, 3750]))\n",
            "Epoch 8 - Config 3: Train Loss = 0.3264, Train Acc = 0.8624, Train F1 = 0.8519, Val Loss = 1.0708, Val Acc = 0.7851, Val F1 = 0.8054, Reg F1 = 0.0000\n",
            "Early stopping in configuration 3 at epoch 8 due to no improvement.\n",
            "\n",
            "Best overall F1: 0.8242 from configuration 3\n",
            "Training complete. Best model parameters saved to 'best_model.pt'\n"
          ]
        }
      ],
      "source": [
        "path = \"./\"\n",
        "logging_file = \"results.csv\"\n",
        "\n",
        "\n",
        "def train_and_evaluate(\n",
        "    configurations,\n",
        "    model_class,\n",
        "    criterion,\n",
        "    device,\n",
        "    train_loader,\n",
        "    val_loader,\n",
        "    num_epochs,\n",
        "    learning_rate,\n",
        "):\n",
        "    best_overall_f1 = 0\n",
        "    best_model_params = None\n",
        "    best_config = None\n",
        "\n",
        "    # Iterate through each configuration\n",
        "    for config_id, config in enumerate(configurations, start=1):\n",
        "        print(f\"\\nRunning configuration {config_id}...\")\n",
        "\n",
        "        # Initialize model and optimizer for each configuration\n",
        "        model = model_class(**config)  # Initialize model with config parameters\n",
        "        model.to(device)  # Move model to device (CPU or GPU)\n",
        "        optimizer = torch.optim.Adam(model.parameters(), lr=learning_rate)\n",
        "\n",
        "        highest_f1_in_config = 0\n",
        "        epochs_below_f1 = 0  # Counter for early stopping\n",
        "\n",
        "        for epoch in range(1, num_epochs + 1):\n",
        "            # Training phase\n",
        "            print(f\"\\nTraining epoch {epoch} for config {config_id}...\")\n",
        "\n",
        "            try:\n",
        "                train_loss, train_acc, train_f1 = process(\n",
        "                    model, train_loader, criterion, optim=optimizer\n",
        "                )  # Use 'optim' for training\n",
        "            except Exception as e:\n",
        "                print(\"Error during training:\", e)\n",
        "                return\n",
        "\n",
        "            with torch.no_grad():\n",
        "                try:\n",
        "                    val_loss, val_acc, val_f1 = process(\n",
        "                        model, val_loader, criterion, optim=None\n",
        "                    )  # Set 'optim=None' for evaluation\n",
        "                except Exception as e:\n",
        "                    print(\"Error during evaluation:\", e)\n",
        "                    return\n",
        "\n",
        "            # Calculate regularized F1 score\n",
        "            reg_f1 = regularized_f1(train_f1, val_f1)\n",
        "\n",
        "            # Save metrics for this epoch\n",
        "            save_metrics(\n",
        "                config_id,\n",
        "                epoch,\n",
        "                train_loss,\n",
        "                train_acc,\n",
        "                train_f1,\n",
        "                val_loss,\n",
        "                val_acc,\n",
        "                val_f1,\n",
        "                path=path,\n",
        "                fname=logging_file,\n",
        "            )\n",
        "\n",
        "            # Display progress with more details\n",
        "            print(\n",
        "                f\"Epoch {epoch} - Config {config_id}: Train Loss = {train_loss:.4f}, Train Acc = {train_acc:.4f}, \"\n",
        "                f\"Train F1 = {train_f1:.4f}, Val Loss = {val_loss:.4f}, Val Acc = {val_acc:.4f}, Val F1 = {val_f1:.4f}, Reg F1 = {reg_f1:.4f}\"\n",
        "            )\n",
        "\n",
        "            # Check if the model generalizes (validation F1 > train F1) and improves overall highest F1\n",
        "            if reg_f1 > 0 and val_f1 > highest_f1_in_config:\n",
        "                highest_f1_in_config = val_f1\n",
        "                epochs_below_f1 = 0  # Reset early stopping counter\n",
        "\n",
        "                # Check if it's the best model overall\n",
        "                if val_f1 > best_overall_f1:\n",
        "                    best_overall_f1 = val_f1\n",
        "                    best_model_params = {\n",
        "                        k: v.cpu() for k, v in model.state_dict().items()\n",
        "                    }\n",
        "                    best_config = config_id\n",
        "                    torch.save(best_model_params, \"best_model.pt\")\n",
        "            else:\n",
        "                epochs_below_f1 += 1  # Increment if performance hasn't improved\n",
        "\n",
        "            # Early stopping if validation F1 doesn't improve for 3 consecutive epochs\n",
        "            if epochs_below_f1 >= 3:\n",
        "                print(\n",
        "                    f\"Early stopping in configuration {config_id} at epoch {epoch} due to no improvement.\"\n",
        "                )\n",
        "                break  # Exit the epoch loop early for this configuration\n",
        "\n",
        "    print(f\"\\nBest overall F1: {best_overall_f1:.4f} from configuration {best_config}\")\n",
        "    print(\"Training complete. Best model parameters saved to 'best_model.pt'\")\n",
        "\n",
        "\n",
        "# Train and Evaluation\n",
        "train_and_evaluate(\n",
        "    configurations=configs.values(),\n",
        "    model_class=BiLSTM,\n",
        "    criterion=nn.BCEWithLogitsLoss(),\n",
        "    device=device,\n",
        "    train_loader=train_loader,\n",
        "    val_loader=val_loader,\n",
        "    num_epochs=NUM_EPOCHS,\n",
        "    learning_rate=LEARNING_RATE,\n",
        ")"
      ]
    },
    {
      "cell_type": "markdown",
      "metadata": {
        "id": "lRQxVvWAfuD-"
      },
      "source": [
        "### Results Visualization and Analysis\n",
        "\n",
        "After completing the training for all configurations, we visualize the training dynamics by plotting the metrics stored in `results.csv`."
      ]
    },
    {
      "cell_type": "code",
      "execution_count": null,
      "metadata": {
        "id": "JS6AtiihfuD-"
      },
      "outputs": [],
      "source": [
        "df = pd.read_csv(\"results.csv\")"
      ]
    },
    {
      "cell_type": "code",
      "execution_count": null,
      "metadata": {
        "colab": {
          "base_uri": "https://localhost:8080/",
          "height": 1000
        },
        "id": "OeO-wjpvfuD-",
        "outputId": "033bd346-d65f-4989-851e-c9ca7134fd52"
      },
      "outputs": [
        {
          "data": {
            "image/png": "[encoded data removed]",
            "text/plain": [
              "<Figure size 900x1100 with 6 Axes>"
            ]
          },
          "metadata": {},
          "output_type": "display_data"
        }
      ],
      "source": [
        "fig, ax = plt.subplots(3, 2, figsize=(9, 11))\n",
        "\n",
        "\n",
        "colors = {\n",
        "    \"train_loss\": \"blue\",\n",
        "    \"val_loss\": \"blue\",\n",
        "    \"train_acc\": \"orange\",\n",
        "    \"val_acc\": \"orange\",\n",
        "    \"train_f1\": \"green\",\n",
        "    \"val_f1\": \"green\",\n",
        "}\n",
        "\n",
        "line_styles = {\"train\": \"-\", \"val\": \"--\"}\n",
        "\n",
        "# loop through each configuration\n",
        "for i, config_id in enumerate([1, 2, 3]):\n",
        "    config_df = df[df[\"config\"] == config_id]\n",
        "    # plot Loss Progression (left plot)\n",
        "    ax[i, 0].plot(\n",
        "        config_df[\"epoch\"],\n",
        "        config_df[\"train_loss\"],\n",
        "        color=colors[\"train_loss\"],\n",
        "        linestyle=line_styles[\"train\"],\n",
        "        label=\"Train Loss\",\n",
        "    )\n",
        "    ax[i, 0].plot(\n",
        "        config_df[\"epoch\"],\n",
        "        config_df[\"val_loss\"],\n",
        "        color=colors[\"val_loss\"],\n",
        "        linestyle=line_styles[\"val\"],\n",
        "        label=\"Val Loss\",\n",
        "    )\n",
        "    ax[i, 0].set_title(f\"Configuration {config_id} - Loss\")\n",
        "    ax[i, 0].set_xlabel(\"Epoch\")\n",
        "    ax[i, 0].set_ylabel(\"Loss\")\n",
        "    ax[i, 0].legend()\n",
        "\n",
        "    # plot Accuracy and F1 Progression (right plot)\n",
        "    ax[i, 1].plot(\n",
        "        config_df[\"epoch\"],\n",
        "        config_df[\"train_acc\"],\n",
        "        color=colors[\"train_acc\"],\n",
        "        linestyle=line_styles[\"train\"],\n",
        "        label=\"Train Accuracy\",\n",
        "    )\n",
        "    ax[i, 1].plot(\n",
        "        config_df[\"epoch\"],\n",
        "        config_df[\"val_acc\"],\n",
        "        color=colors[\"val_acc\"],\n",
        "        linestyle=line_styles[\"val\"],\n",
        "        label=\"Val Accuracy\",\n",
        "    )\n",
        "    ax[i, 1].plot(\n",
        "        config_df[\"epoch\"],\n",
        "        config_df[\"train_f1\"],\n",
        "        color=colors[\"train_f1\"],\n",
        "        linestyle=line_styles[\"train\"],\n",
        "        label=\"Train F1\",\n",
        "    )\n",
        "    ax[i, 1].plot(\n",
        "        config_df[\"epoch\"],\n",
        "        config_df[\"val_f1\"],\n",
        "        color=colors[\"val_f1\"],\n",
        "        linestyle=line_styles[\"val\"],\n",
        "        label=\"Val F1\",\n",
        "    )\n",
        "    ax[i, 1].set_title(f\"Configuration {config_id} - Accuracy and F1\")\n",
        "    ax[i, 1].set_xlabel(\"Epoch\")\n",
        "    ax[i, 1].set_ylabel(\"Score\")\n",
        "    ax[i, 1].legend()\n",
        "\n",
        "plt.tight_layout()\n",
        "plt.show()"
      ]
    },
    {
      "cell_type": "markdown",
      "metadata": {
        "id": "h7K_GNFQfuD_"
      },
      "source": [
        "### Final Evaluation on the Test Set\n",
        "\n",
        "After identifying the best-performing configuration during validation, we now instantiate the corresponding model, load its saved parameters, and evaluate its performance on the test set."
      ]
    },
    {
      "cell_type": "code",
      "execution_count": null,
      "metadata": {
        "colab": {
          "base_uri": "https://localhost:8080/"
        },
        "id": "hUak79M6fuD_",
        "outputId": "0a703652-e4b2-4b5d-9b83-62dfa48ac1c6"
      },
      "outputs": [
        {
          "name": "stdout",
          "output_type": "stream",
          "text": [
            "\rEvaluating:   0%|          | 0/782 [00:00<?, ?batches/s]"
          ]
        },
        {
          "name": "stderr",
          "output_type": "stream",
          "text": [
            "<ipython-input-12-695c2b96817b>:3: UserWarning: To copy construct from a tensor, it is recommended to use sourceTensor.clone().detach() or sourceTensor.clone().detach().requires_grad_(True), rather than torch.tensor(sourceTensor).\n",
            "  sequences = [torch.tensor(item[\"input_ids\"], dtype=torch.long) for item in batch]\n",
            "<ipython-input-12-695c2b96817b>:3: UserWarning: To copy construct from a tensor, it is recommended to use sourceTensor.clone().detach() or sourceTensor.clone().detach().requires_grad_(True), rather than torch.tensor(sourceTensor).\n",
            "  sequences = [torch.tensor(item[\"input_ids\"], dtype=torch.long) for item in batch]\n"
          ]
        },
        {
          "name": "stdout",
          "output_type": "stream",
          "text": [
            "Evaluating: 100%|██████████| 782/782 [00:10<00:00, 75.74batches/s]\n",
            "Unique values in predictions: (array([0, 1]), array([13380, 11620]))\n",
            "Unique values in labels: (array([0., 1.], dtype=float32), array([12500, 12500]))\n",
            "\n",
            "Test Results: Loss = 0.8169, Accuracy = 0.8137, F1 Score = 0.8069\n"
          ]
        }
      ],
      "source": [
        "# evaluate on test set\n",
        "model = configs[\"config3\"]\n",
        "\n",
        "\n",
        "# Reinitialize the best model with Configuration 3 parameters\n",
        "best_model = BiLSTM(**model)\n",
        "best_model.load_state_dict(torch.load(\"best_model.pt\"))  # Load saved parameters\n",
        "best_model.to(device)\n",
        "\n",
        "# Set model to evaluation mode and disable gradient calculation\n",
        "best_model.eval()\n",
        "with torch.no_grad():\n",
        "    test_loss, test_acc, test_f1 = process(\n",
        "        best_model, test_loader, nn.BCEWithLogitsLoss()\n",
        "    )\n",
        "\n",
        "# Print test results\n",
        "print(\n",
        "    f\"\\nTest Results: Loss = {test_loss:.4f}, Accuracy = {test_acc:.4f}, F1 Score = {test_f1:.4f}\"\n",
        ")"
      ]
    },
    {
      "cell_type": "markdown",
      "metadata": {
        "id": "Urt82HxzkPD_"
      },
      "source": [
        "We evaluated the model on the test set using the best hyperparameter configuration, which was found to be the third:\n",
        "\n",
        "\n",
        "\"config3\" = \"vocab_size\": VOCAB_SIZE, \"embedding_dim\": 300,\"hidden_size\": 256, \"rnn_size\": 256, \"dropout\": 0.5\n",
        "\n",
        "\n",
        "As can be seen from the evaluation on the test score, the model achieved a loss of 0.8169, an accuracy of 0.8137, and an F1 score of 0.8069\n",
        "\n",
        "Which denotes a good ability of the model to generalize on unseen data. Specifically, the accuracy is good and the F1 score suggests a good balance between precision and recall but could still be improved.\n",
        "\n",
        "The overall performance suggests that there are possibilities for improvement.\n",
        "\n",
        "Even looking at the training and validation error/accuracy plot of the model with the third (best) configuration, we can make some important considerations.\n",
        "In particular looking at the left graph ( Loss - epochs) we can see that from epoch 5 despite a consistent decrease in training loss the validation loss remains more or less stable and starts to increase slightly denoting a possible overfitting problem. This might suggest the adoption of regularization techniques.\n",
        "\n",
        "This phenomenon is also denoted in the right plot which analyze the training and validation accuracy and F1 score.\n",
        "From the fifth epoch, the train accuracy continues to increase while the validation accuracy slowly decrease.\n",
        "\n",
        " This might suggest that it would be interesting to test an early stopping in these epochs so as to avoid overfitting (we might think of decreasing the NUM_EPOCHS parameter by testing new values)\n",
        "\n",
        "Possible improvements/considerations:\n",
        "\n",
        "- Hyperparameter tuning, one could experiment with new hyperparameter configurations for example by implementing algorithms such as grid search ,random search or Bayesian optimization models. In doing so, however, we must take into account the cost of such computations, which for a model of this size can become very high.\n",
        "\n",
        "\n",
        "- Regularization, adjusting dropout or applying L2 regularization could help the model generalize better. In particular we could try to increase the Dropout Rate to introduce more regularization.\n",
        "\n",
        "\n",
        "Looking at the setting of the hyperparameters in the third cell:\n",
        "\n",
        "VOCAB_SIZE = 20_000,\n",
        "BATCH_SIZE = 32,\n",
        "NUM_EPOCHS = 15,\n",
        "MAX_LEN = 256,\n",
        "LEARNING_RATE = 1e-4\n",
        "\n",
        "To avoid the problem of overfitting we could try to reduce the batch_size that can introduce more noise in the gradient calculations, which may improve generalization. The downside is that training may take longer, but it can help the model generalize better to unseen data.\n",
        "\n",
        "Then to adress the same problem, we can try to work on reducing MAX_LEN to 128 or 100. This will limit the input to only the most relevant words, which could reduce the noise and make the model more focused on key parts of the input potentially avoiding overfitting.\n",
        "\n",
        "To conclude, the model achieved good results but leaves room for improvement, particularly in addressing the slight overfitting observed. Based on the considerations discussed, applying further regularization techniques and tuning specific hyperparameters, such as batch size, dropout, and learning rate, could enhance the model's generalization. These adjustments may help the model maintain or even improve its performance on unseen data while avoiding overfitting.\n",
        "\n",
        "\n",
        "\n",
        "\n",
        "\n",
        "\n",
        "\n"
      ]
    }
  ],
  "metadata": {
    "accelerator": "GPU",
    "colab": {
      "gpuType": "T4",
      "provenance": []
    },
    "kernelspec": {
      "display_name": "Python 3",
      "name": "python3"
    },
    "language_info": {
      "codemirror_mode": {
        "name": "ipython",
        "version": 3
      },
      "file_extension": ".py",
      "mimetype": "text/x-python",
      "name": "python",
      "nbconvert_exporter": "python",
      "pygments_lexer": "ipython3",
      "version": "3.9.16"
    },
    "widgets": {
      "application/vnd.jupyter.widget-state+json": {
        "07e59c8e03984412a4964a4c4aaa4cae": {
          "model_module": "@jupyter-widgets/base",
          "model_module_version": "1.2.0",
          "model_name": "LayoutModel",
          "state": {
            "_model_module": "@jupyter-widgets/base",
            "_model_module_version": "1.2.0",
            "_model_name": "LayoutModel",
            "_view_count": null,
            "_view_module": "@jupyter-widgets/base",
            "_view_module_version": "1.2.0",
            "_view_name": "LayoutView",
            "align_content": null,
            "align_items": null,
            "align_self": null,
            "border": null,
            "bottom": null,
            "display": null,
            "flex": null,
            "flex_flow": null,
            "grid_area": null,
            "grid_auto_columns": null,
            "grid_auto_flow": null,
            "grid_auto_rows": null,
            "grid_column": null,
            "grid_gap": null,
            "grid_row": null,
            "grid_template_areas": null,
            "grid_template_columns": null,
            "grid_template_rows": null,
            "height": null,
            "justify_content": null,
            "justify_items": null,
            "left": null,
            "margin": null,
            "max_height": null,
            "max_width": null,
            "min_height": null,
            "min_width": null,
            "object_fit": null,
            "object_position": null,
            "order": null,
            "overflow": null,
            "overflow_x": null,
            "overflow_y": null,
            "padding": null,
            "right": null,
            "top": null,
            "visibility": null,
            "width": null
          }
        },
        "0e4d91d51b8b46879dacf444de0c0260": {
          "model_module": "@jupyter-widgets/controls",
          "model_module_version": "1.5.0",
          "model_name": "ProgressStyleModel",
          "state": {
            "_model_module": "@jupyter-widgets/controls",
            "_model_module_version": "1.5.0",
            "_model_name": "ProgressStyleModel",
            "_view_count": null,
            "_view_module": "@jupyter-widgets/base",
            "_view_module_version": "1.2.0",
            "_view_name": "StyleView",
            "bar_color": null,
            "description_width": ""
          }
        },
        "0f9e759769a74cbaaaa758d1ec4ceb43": {
          "model_module": "@jupyter-widgets/controls",
          "model_module_version": "1.5.0",
          "model_name": "HTMLModel",
          "state": {
            "_dom_classes": [],
            "_model_module": "@jupyter-widgets/controls",
            "_model_module_version": "1.5.0",
            "_model_name": "HTMLModel",
            "_view_count": null,
            "_view_module": "@jupyter-widgets/controls",
            "_view_module_version": "1.5.0",
            "_view_name": "HTMLView",
            "description": "",
            "description_tooltip": null,
            "layout": "IPY_MODEL_3ec554946aff4a75af20b7e9a3b52c7f",
            "placeholder": "​",
            "style": "IPY_MODEL_7b345421cc4240cda710ce729a7b64b3",
            "value": "Generating train split: 100%"
          }
        },
        "10cf182c1b384c6a86868d3573bbcb00": {
          "model_module": "@jupyter-widgets/controls",
          "model_module_version": "1.5.0",
          "model_name": "HTMLModel",
          "state": {
            "_dom_classes": [],
            "_model_module": "@jupyter-widgets/controls",
            "_model_module_version": "1.5.0",
            "_model_name": "HTMLModel",
            "_view_count": null,
            "_view_module": "@jupyter-widgets/controls",
            "_view_module_version": "1.5.0",
            "_view_name": "HTMLView",
            "description": "",
            "description_tooltip": null,
            "layout": "IPY_MODEL_fc2d5d476e8a4ad8b1fc30877ea81fda",
            "placeholder": "​",
            "style": "IPY_MODEL_bfa627c4bb254bf0b63a106251948253",
            "value": " 25000/25000 [00:00&lt;00:00, 38761.78 examples/s]"
          }
        },
        "127987266981498ea43ea681d5c9d2bf": {
          "model_module": "@jupyter-widgets/controls",
          "model_module_version": "1.5.0",
          "model_name": "HBoxModel",
          "state": {
            "_dom_classes": [],
            "_model_module": "@jupyter-widgets/controls",
            "_model_module_version": "1.5.0",
            "_model_name": "HBoxModel",
            "_view_count": null,
            "_view_module": "@jupyter-widgets/controls",
            "_view_module_version": "1.5.0",
            "_view_name": "HBoxView",
            "box_style": "",
            "children": [
              "IPY_MODEL_780f6a9bbfa94b05b37c33aeb3066779",
              "IPY_MODEL_acef7cbaf2854314b6d35ef0f20790c4",
              "IPY_MODEL_10cf182c1b384c6a86868d3573bbcb00"
            ],
            "layout": "IPY_MODEL_5b8579e30cbe4ab6acfd9068be94845f"
          }
        },
        "1a9189c754964660a4185a94ed8464fc": {
          "model_module": "@jupyter-widgets/base",
          "model_module_version": "1.2.0",
          "model_name": "LayoutModel",
          "state": {
            "_model_module": "@jupyter-widgets/base",
            "_model_module_version": "1.2.0",
            "_model_name": "LayoutModel",
            "_view_count": null,
            "_view_module": "@jupyter-widgets/base",
            "_view_module_version": "1.2.0",
            "_view_name": "LayoutView",
            "align_content": null,
            "align_items": null,
            "align_self": null,
            "border": null,
            "bottom": null,
            "display": null,
            "flex": null,
            "flex_flow": null,
            "grid_area": null,
            "grid_auto_columns": null,
            "grid_auto_flow": null,
            "grid_auto_rows": null,
            "grid_column": null,
            "grid_gap": null,
            "grid_row": null,
            "grid_template_areas": null,
            "grid_template_columns": null,
            "grid_template_rows": null,
            "height": null,
            "justify_content": null,
            "justify_items": null,
            "left": null,
            "margin": null,
            "max_height": null,
            "max_width": null,
            "min_height": null,
            "min_width": null,
            "object_fit": null,
            "object_position": null,
            "order": null,
            "overflow": null,
            "overflow_x": null,
            "overflow_y": null,
            "padding": null,
            "right": null,
            "top": null,
            "visibility": null,
            "width": null
          }
        },
        "1b10535e07444d5f9892f72f575885a0": {
          "model_module": "@jupyter-widgets/controls",
          "model_module_version": "1.5.0",
          "model_name": "DescriptionStyleModel",
          "state": {
            "_model_module": "@jupyter-widgets/controls",
            "_model_module_version": "1.5.0",
            "_model_name": "DescriptionStyleModel",
            "_view_count": null,
            "_view_module": "@jupyter-widgets/base",
            "_view_module_version": "1.2.0",
            "_view_name": "StyleView",
            "description_width": ""
          }
        },
        "1c2d911042d7417fb5df6b56ba56f7e6": {
          "model_module": "@jupyter-widgets/base",
          "model_module_version": "1.2.0",
          "model_name": "LayoutModel",
          "state": {
            "_model_module": "@jupyter-widgets/base",
            "_model_module_version": "1.2.0",
            "_model_name": "LayoutModel",
            "_view_count": null,
            "_view_module": "@jupyter-widgets/base",
            "_view_module_version": "1.2.0",
            "_view_name": "LayoutView",
            "align_content": null,
            "align_items": null,
            "align_self": null,
            "border": null,
            "bottom": null,
            "display": null,
            "flex": null,
            "flex_flow": null,
            "grid_area": null,
            "grid_auto_columns": null,
            "grid_auto_flow": null,
            "grid_auto_rows": null,
            "grid_column": null,
            "grid_gap": null,
            "grid_row": null,
            "grid_template_areas": null,
            "grid_template_columns": null,
            "grid_template_rows": null,
            "height": null,
            "justify_content": null,
            "justify_items": null,
            "left": null,
            "margin": null,
            "max_height": null,
            "max_width": null,
            "min_height": null,
            "min_width": null,
            "object_fit": null,
            "object_position": null,
            "order": null,
            "overflow": null,
            "overflow_x": null,
            "overflow_y": null,
            "padding": null,
            "right": null,
            "top": null,
            "visibility": null,
            "width": null
          }
        },
        "1f54080fdd3d44f3a6e4bcbe4b668fe3": {
          "model_module": "@jupyter-widgets/controls",
          "model_module_version": "1.5.0",
          "model_name": "FloatProgressModel",
          "state": {
            "_dom_classes": [],
            "_model_module": "@jupyter-widgets/controls",
            "_model_module_version": "1.5.0",
            "_model_name": "FloatProgressModel",
            "_view_count": null,
            "_view_module": "@jupyter-widgets/controls",
            "_view_module_version": "1.5.0",
            "_view_name": "ProgressView",
            "bar_style": "success",
            "description": "",
            "description_tooltip": null,
            "layout": "IPY_MODEL_d14beb96f422441db82923b846e90905",
            "max": 7809,
            "min": 0,
            "orientation": "horizontal",
            "style": "IPY_MODEL_0e4d91d51b8b46879dacf444de0c0260",
            "value": 7809
          }
        },
        "235a83435f4947a4993b73df1c862dec": {
          "model_module": "@jupyter-widgets/base",
          "model_module_version": "1.2.0",
          "model_name": "LayoutModel",
          "state": {
            "_model_module": "@jupyter-widgets/base",
            "_model_module_version": "1.2.0",
            "_model_name": "LayoutModel",
            "_view_count": null,
            "_view_module": "@jupyter-widgets/base",
            "_view_module_version": "1.2.0",
            "_view_name": "LayoutView",
            "align_content": null,
            "align_items": null,
            "align_self": null,
            "border": null,
            "bottom": null,
            "display": null,
            "flex": null,
            "flex_flow": null,
            "grid_area": null,
            "grid_auto_columns": null,
            "grid_auto_flow": null,
            "grid_auto_rows": null,
            "grid_column": null,
            "grid_gap": null,
            "grid_row": null,
            "grid_template_areas": null,
            "grid_template_columns": null,
            "grid_template_rows": null,
            "height": null,
            "justify_content": null,
            "justify_items": null,
            "left": null,
            "margin": null,
            "max_height": null,
            "max_width": null,
            "min_height": null,
            "min_width": null,
            "object_fit": null,
            "object_position": null,
            "order": null,
            "overflow": null,
            "overflow_x": null,
            "overflow_y": null,
            "padding": null,
            "right": null,
            "top": null,
            "visibility": null,
            "width": null
          }
        },
        "253c2ab0df254040a618bf917904fea8": {
          "model_module": "@jupyter-widgets/controls",
          "model_module_version": "1.5.0",
          "model_name": "DescriptionStyleModel",
          "state": {
            "_model_module": "@jupyter-widgets/controls",
            "_model_module_version": "1.5.0",
            "_model_name": "DescriptionStyleModel",
            "_view_count": null,
            "_view_module": "@jupyter-widgets/base",
            "_view_module_version": "1.2.0",
            "_view_name": "StyleView",
            "description_width": ""
          }
        },
        "2659cf02ad374740b6cbeb5f3c47e670": {
          "model_module": "@jupyter-widgets/controls",
          "model_module_version": "1.5.0",
          "model_name": "ProgressStyleModel",
          "state": {
            "_model_module": "@jupyter-widgets/controls",
            "_model_module_version": "1.5.0",
            "_model_name": "ProgressStyleModel",
            "_view_count": null,
            "_view_module": "@jupyter-widgets/base",
            "_view_module_version": "1.2.0",
            "_view_name": "StyleView",
            "bar_color": null,
            "description_width": ""
          }
        },
        "2f32d186c5884ab7a51c418bea8b9828": {
          "model_module": "@jupyter-widgets/controls",
          "model_module_version": "1.5.0",
          "model_name": "HTMLModel",
          "state": {
            "_dom_classes": [],
            "_model_module": "@jupyter-widgets/controls",
            "_model_module_version": "1.5.0",
            "_model_name": "HTMLModel",
            "_view_count": null,
            "_view_module": "@jupyter-widgets/controls",
            "_view_module_version": "1.5.0",
            "_view_name": "HTMLView",
            "description": "",
            "description_tooltip": null,
            "layout": "IPY_MODEL_6e490455b8b546119c46c4765f13b1b3",
            "placeholder": "​",
            "style": "IPY_MODEL_1b10535e07444d5f9892f72f575885a0",
            "value": "train-00000-of-00001.parquet: 100%"
          }
        },
        "31db3ca7254b4e539bd3bd7e57bd0f50": {
          "model_module": "@jupyter-widgets/controls",
          "model_module_version": "1.5.0",
          "model_name": "DescriptionStyleModel",
          "state": {
            "_model_module": "@jupyter-widgets/controls",
            "_model_module_version": "1.5.0",
            "_model_name": "DescriptionStyleModel",
            "_view_count": null,
            "_view_module": "@jupyter-widgets/base",
            "_view_module_version": "1.2.0",
            "_view_name": "StyleView",
            "description_width": ""
          }
        },
        "325cd76d07454f088234e332ade607fe": {
          "model_module": "@jupyter-widgets/base",
          "model_module_version": "1.2.0",
          "model_name": "LayoutModel",
          "state": {
            "_model_module": "@jupyter-widgets/base",
            "_model_module_version": "1.2.0",
            "_model_name": "LayoutModel",
            "_view_count": null,
            "_view_module": "@jupyter-widgets/base",
            "_view_module_version": "1.2.0",
            "_view_name": "LayoutView",
            "align_content": null,
            "align_items": null,
            "align_self": null,
            "border": null,
            "bottom": null,
            "display": null,
            "flex": null,
            "flex_flow": null,
            "grid_area": null,
            "grid_auto_columns": null,
            "grid_auto_flow": null,
            "grid_auto_rows": null,
            "grid_column": null,
            "grid_gap": null,
            "grid_row": null,
            "grid_template_areas": null,
            "grid_template_columns": null,
            "grid_template_rows": null,
            "height": null,
            "justify_content": null,
            "justify_items": null,
            "left": null,
            "margin": null,
            "max_height": null,
            "max_width": null,
            "min_height": null,
            "min_width": null,
            "object_fit": null,
            "object_position": null,
            "order": null,
            "overflow": null,
            "overflow_x": null,
            "overflow_y": null,
            "padding": null,
            "right": null,
            "top": null,
            "visibility": null,
            "width": null
          }
        },
        "375f605cae404f79b84a08905570bcfc": {
          "model_module": "@jupyter-widgets/base",
          "model_module_version": "1.2.0",
          "model_name": "LayoutModel",
          "state": {
            "_model_module": "@jupyter-widgets/base",
            "_model_module_version": "1.2.0",
            "_model_name": "LayoutModel",
            "_view_count": null,
            "_view_module": "@jupyter-widgets/base",
            "_view_module_version": "1.2.0",
            "_view_name": "LayoutView",
            "align_content": null,
            "align_items": null,
            "align_self": null,
            "border": null,
            "bottom": null,
            "display": null,
            "flex": null,
            "flex_flow": null,
            "grid_area": null,
            "grid_auto_columns": null,
            "grid_auto_flow": null,
            "grid_auto_rows": null,
            "grid_column": null,
            "grid_gap": null,
            "grid_row": null,
            "grid_template_areas": null,
            "grid_template_columns": null,
            "grid_template_rows": null,
            "height": null,
            "justify_content": null,
            "justify_items": null,
            "left": null,
            "margin": null,
            "max_height": null,
            "max_width": null,
            "min_height": null,
            "min_width": null,
            "object_fit": null,
            "object_position": null,
            "order": null,
            "overflow": null,
            "overflow_x": null,
            "overflow_y": null,
            "padding": null,
            "right": null,
            "top": null,
            "visibility": null,
            "width": null
          }
        },
        "3a3aecd66bb3437bb213af9887fb4e4b": {
          "model_module": "@jupyter-widgets/controls",
          "model_module_version": "1.5.0",
          "model_name": "DescriptionStyleModel",
          "state": {
            "_model_module": "@jupyter-widgets/controls",
            "_model_module_version": "1.5.0",
            "_model_name": "DescriptionStyleModel",
            "_view_count": null,
            "_view_module": "@jupyter-widgets/base",
            "_view_module_version": "1.2.0",
            "_view_name": "StyleView",
            "description_width": ""
          }
        },
        "3eb84592a7f54cd99fd4a28f034170f1": {
          "model_module": "@jupyter-widgets/controls",
          "model_module_version": "1.5.0",
          "model_name": "DescriptionStyleModel",
          "state": {
            "_model_module": "@jupyter-widgets/controls",
            "_model_module_version": "1.5.0",
            "_model_name": "DescriptionStyleModel",
            "_view_count": null,
            "_view_module": "@jupyter-widgets/base",
            "_view_module_version": "1.2.0",
            "_view_name": "StyleView",
            "description_width": ""
          }
        },
        "3ebbbc6f79374f9983cc2be7047ce978": {
          "model_module": "@jupyter-widgets/controls",
          "model_module_version": "1.5.0",
          "model_name": "DescriptionStyleModel",
          "state": {
            "_model_module": "@jupyter-widgets/controls",
            "_model_module_version": "1.5.0",
            "_model_name": "DescriptionStyleModel",
            "_view_count": null,
            "_view_module": "@jupyter-widgets/base",
            "_view_module_version": "1.2.0",
            "_view_name": "StyleView",
            "description_width": ""
          }
        },
        "3ec554946aff4a75af20b7e9a3b52c7f": {
          "model_module": "@jupyter-widgets/base",
          "model_module_version": "1.2.0",
          "model_name": "LayoutModel",
          "state": {
            "_model_module": "@jupyter-widgets/base",
            "_model_module_version": "1.2.0",
            "_model_name": "LayoutModel",
            "_view_count": null,
            "_view_module": "@jupyter-widgets/base",
            "_view_module_version": "1.2.0",
            "_view_name": "LayoutView",
            "align_content": null,
            "align_items": null,
            "align_self": null,
            "border": null,
            "bottom": null,
            "display": null,
            "flex": null,
            "flex_flow": null,
            "grid_area": null,
            "grid_auto_columns": null,
            "grid_auto_flow": null,
            "grid_auto_rows": null,
            "grid_column": null,
            "grid_gap": null,
            "grid_row": null,
            "grid_template_areas": null,
            "grid_template_columns": null,
            "grid_template_rows": null,
            "height": null,
            "justify_content": null,
            "justify_items": null,
            "left": null,
            "margin": null,
            "max_height": null,
            "max_width": null,
            "min_height": null,
            "min_width": null,
            "object_fit": null,
            "object_position": null,
            "order": null,
            "overflow": null,
            "overflow_x": null,
            "overflow_y": null,
            "padding": null,
            "right": null,
            "top": null,
            "visibility": null,
            "width": null
          }
        },
        "3fde06fe7b0644eb9b4d79a2b2dab689": {
          "model_module": "@jupyter-widgets/controls",
          "model_module_version": "1.5.0",
          "model_name": "HBoxModel",
          "state": {
            "_dom_classes": [],
            "_model_module": "@jupyter-widgets/controls",
            "_model_module_version": "1.5.0",
            "_model_name": "HBoxModel",
            "_view_count": null,
            "_view_module": "@jupyter-widgets/controls",
            "_view_module_version": "1.5.0",
            "_view_name": "HBoxView",
            "box_style": "",
            "children": [
              "IPY_MODEL_e1917f4a0b0342469e63ca1a7c3d7609",
              "IPY_MODEL_dc5a7540767b49b7953f3ec53090f7d7",
              "IPY_MODEL_ebe0fa55db0344ed878073c9cb205ab0"
            ],
            "layout": "IPY_MODEL_ce4de234bc314896847ca6ddaf97efa5"
          }
        },
        "40b27aed8c944383915c13b6f582c5c2": {
          "model_module": "@jupyter-widgets/controls",
          "model_module_version": "1.5.0",
          "model_name": "HTMLModel",
          "state": {
            "_dom_classes": [],
            "_model_module": "@jupyter-widgets/controls",
            "_model_module_version": "1.5.0",
            "_model_name": "HTMLModel",
            "_view_count": null,
            "_view_module": "@jupyter-widgets/controls",
            "_view_module_version": "1.5.0",
            "_view_name": "HTMLView",
            "description": "",
            "description_tooltip": null,
            "layout": "IPY_MODEL_1c2d911042d7417fb5df6b56ba56f7e6",
            "placeholder": "​",
            "style": "IPY_MODEL_d749dac478274a17937d5a9a95ca8c2d",
            "value": " 25000/25000 [00:00&lt;00:00, 42082.76 examples/s]"
          }
        },
        "49954ee2febb4bd18aaa07040b213de6": {
          "model_module": "@jupyter-widgets/controls",
          "model_module_version": "1.5.0",
          "model_name": "FloatProgressModel",
          "state": {
            "_dom_classes": [],
            "_model_module": "@jupyter-widgets/controls",
            "_model_module_version": "1.5.0",
            "_model_name": "FloatProgressModel",
            "_view_count": null,
            "_view_module": "@jupyter-widgets/controls",
            "_view_module_version": "1.5.0",
            "_view_name": "ProgressView",
            "bar_style": "success",
            "description": "",
            "description_tooltip": null,
            "layout": "IPY_MODEL_a7ae04ab5fc74139b2748d7b388220b4",
            "max": 20470363,
            "min": 0,
            "orientation": "horizontal",
            "style": "IPY_MODEL_a59037fe7a374bf4a8b9cd757f0e9153",
            "value": 20470363
          }
        },
        "4dddef1ae380406b86686b049146cdb5": {
          "model_module": "@jupyter-widgets/base",
          "model_module_version": "1.2.0",
          "model_name": "LayoutModel",
          "state": {
            "_model_module": "@jupyter-widgets/base",
            "_model_module_version": "1.2.0",
            "_model_name": "LayoutModel",
            "_view_count": null,
            "_view_module": "@jupyter-widgets/base",
            "_view_module_version": "1.2.0",
            "_view_name": "LayoutView",
            "align_content": null,
            "align_items": null,
            "align_self": null,
            "border": null,
            "bottom": null,
            "display": null,
            "flex": null,
            "flex_flow": null,
            "grid_area": null,
            "grid_auto_columns": null,
            "grid_auto_flow": null,
            "grid_auto_rows": null,
            "grid_column": null,
            "grid_gap": null,
            "grid_row": null,
            "grid_template_areas": null,
            "grid_template_columns": null,
            "grid_template_rows": null,
            "height": null,
            "justify_content": null,
            "justify_items": null,
            "left": null,
            "margin": null,
            "max_height": null,
            "max_width": null,
            "min_height": null,
            "min_width": null,
            "object_fit": null,
            "object_position": null,
            "order": null,
            "overflow": null,
            "overflow_x": null,
            "overflow_y": null,
            "padding": null,
            "right": null,
            "top": null,
            "visibility": null,
            "width": null
          }
        },
        "55afef1fbcd740048ef08d0ae9e29dc1": {
          "model_module": "@jupyter-widgets/base",
          "model_module_version": "1.2.0",
          "model_name": "LayoutModel",
          "state": {
            "_model_module": "@jupyter-widgets/base",
            "_model_module_version": "1.2.0",
            "_model_name": "LayoutModel",
            "_view_count": null,
            "_view_module": "@jupyter-widgets/base",
            "_view_module_version": "1.2.0",
            "_view_name": "LayoutView",
            "align_content": null,
            "align_items": null,
            "align_self": null,
            "border": null,
            "bottom": null,
            "display": null,
            "flex": null,
            "flex_flow": null,
            "grid_area": null,
            "grid_auto_columns": null,
            "grid_auto_flow": null,
            "grid_auto_rows": null,
            "grid_column": null,
            "grid_gap": null,
            "grid_row": null,
            "grid_template_areas": null,
            "grid_template_columns": null,
            "grid_template_rows": null,
            "height": null,
            "justify_content": null,
            "justify_items": null,
            "left": null,
            "margin": null,
            "max_height": null,
            "max_width": null,
            "min_height": null,
            "min_width": null,
            "object_fit": null,
            "object_position": null,
            "order": null,
            "overflow": null,
            "overflow_x": null,
            "overflow_y": null,
            "padding": null,
            "right": null,
            "top": null,
            "visibility": null,
            "width": null
          }
        },
        "569fcc5bbc2a4abcb3731f855805e03e": {
          "model_module": "@jupyter-widgets/controls",
          "model_module_version": "1.5.0",
          "model_name": "HBoxModel",
          "state": {
            "_dom_classes": [],
            "_model_module": "@jupyter-widgets/controls",
            "_model_module_version": "1.5.0",
            "_model_name": "HBoxModel",
            "_view_count": null,
            "_view_module": "@jupyter-widgets/controls",
            "_view_module_version": "1.5.0",
            "_view_name": "HBoxView",
            "box_style": "",
            "children": [
              "IPY_MODEL_81e79e4dd8b644e8a85483a60c2e52ec",
              "IPY_MODEL_1f54080fdd3d44f3a6e4bcbe4b668fe3",
              "IPY_MODEL_b661faddb5e847ec80785e41926e934f"
            ],
            "layout": "IPY_MODEL_375f605cae404f79b84a08905570bcfc"
          }
        },
        "56a8de23bd7345a099df97d1444da028": {
          "model_module": "@jupyter-widgets/controls",
          "model_module_version": "1.5.0",
          "model_name": "DescriptionStyleModel",
          "state": {
            "_model_module": "@jupyter-widgets/controls",
            "_model_module_version": "1.5.0",
            "_model_name": "DescriptionStyleModel",
            "_view_count": null,
            "_view_module": "@jupyter-widgets/base",
            "_view_module_version": "1.2.0",
            "_view_name": "StyleView",
            "description_width": ""
          }
        },
        "5b8579e30cbe4ab6acfd9068be94845f": {
          "model_module": "@jupyter-widgets/base",
          "model_module_version": "1.2.0",
          "model_name": "LayoutModel",
          "state": {
            "_model_module": "@jupyter-widgets/base",
            "_model_module_version": "1.2.0",
            "_model_name": "LayoutModel",
            "_view_count": null,
            "_view_module": "@jupyter-widgets/base",
            "_view_module_version": "1.2.0",
            "_view_name": "LayoutView",
            "align_content": null,
            "align_items": null,
            "align_self": null,
            "border": null,
            "bottom": null,
            "display": null,
            "flex": null,
            "flex_flow": null,
            "grid_area": null,
            "grid_auto_columns": null,
            "grid_auto_flow": null,
            "grid_auto_rows": null,
            "grid_column": null,
            "grid_gap": null,
            "grid_row": null,
            "grid_template_areas": null,
            "grid_template_columns": null,
            "grid_template_rows": null,
            "height": null,
            "justify_content": null,
            "justify_items": null,
            "left": null,
            "margin": null,
            "max_height": null,
            "max_width": null,
            "min_height": null,
            "min_width": null,
            "object_fit": null,
            "object_position": null,
            "order": null,
            "overflow": null,
            "overflow_x": null,
            "overflow_y": null,
            "padding": null,
            "right": null,
            "top": null,
            "visibility": null,
            "width": null
          }
        },
        "5df084944ed1474fad386e9eb7ab87d3": {
          "model_module": "@jupyter-widgets/controls",
          "model_module_version": "1.5.0",
          "model_name": "DescriptionStyleModel",
          "state": {
            "_model_module": "@jupyter-widgets/controls",
            "_model_module_version": "1.5.0",
            "_model_name": "DescriptionStyleModel",
            "_view_count": null,
            "_view_module": "@jupyter-widgets/base",
            "_view_module_version": "1.2.0",
            "_view_name": "StyleView",
            "description_width": ""
          }
        },
        "5e239a1e57d24336970ba5e64027c769": {
          "model_module": "@jupyter-widgets/controls",
          "model_module_version": "1.5.0",
          "model_name": "ProgressStyleModel",
          "state": {
            "_model_module": "@jupyter-widgets/controls",
            "_model_module_version": "1.5.0",
            "_model_name": "ProgressStyleModel",
            "_view_count": null,
            "_view_module": "@jupyter-widgets/base",
            "_view_module_version": "1.2.0",
            "_view_name": "StyleView",
            "bar_color": null,
            "description_width": ""
          }
        },
        "5e2e2181d25642db9a78a9e52b2ce66a": {
          "model_module": "@jupyter-widgets/controls",
          "model_module_version": "1.5.0",
          "model_name": "DescriptionStyleModel",
          "state": {
            "_model_module": "@jupyter-widgets/controls",
            "_model_module_version": "1.5.0",
            "_model_name": "DescriptionStyleModel",
            "_view_count": null,
            "_view_module": "@jupyter-widgets/base",
            "_view_module_version": "1.2.0",
            "_view_name": "StyleView",
            "description_width": ""
          }
        },
        "66db5ff10ce1486ea854d04af9110477": {
          "model_module": "@jupyter-widgets/controls",
          "model_module_version": "1.5.0",
          "model_name": "FloatProgressModel",
          "state": {
            "_dom_classes": [],
            "_model_module": "@jupyter-widgets/controls",
            "_model_module_version": "1.5.0",
            "_model_name": "FloatProgressModel",
            "_view_count": null,
            "_view_module": "@jupyter-widgets/controls",
            "_view_module_version": "1.5.0",
            "_view_name": "ProgressView",
            "bar_style": "success",
            "description": "",
            "description_tooltip": null,
            "layout": "IPY_MODEL_bd7923dd0673459e85cd7ed325fdbfb8",
            "max": 20979968,
            "min": 0,
            "orientation": "horizontal",
            "style": "IPY_MODEL_5e239a1e57d24336970ba5e64027c769",
            "value": 20979968
          }
        },
        "694ceece69f749eb9746baff2de2fac2": {
          "model_module": "@jupyter-widgets/controls",
          "model_module_version": "1.5.0",
          "model_name": "HTMLModel",
          "state": {
            "_dom_classes": [],
            "_model_module": "@jupyter-widgets/controls",
            "_model_module_version": "1.5.0",
            "_model_name": "HTMLModel",
            "_view_count": null,
            "_view_module": "@jupyter-widgets/controls",
            "_view_module_version": "1.5.0",
            "_view_name": "HTMLView",
            "description": "",
            "description_tooltip": null,
            "layout": "IPY_MODEL_1a9189c754964660a4185a94ed8464fc",
            "placeholder": "​",
            "style": "IPY_MODEL_996e541876f34234b564ae70f1a11b2c",
            "value": " 42.0M/42.0M [00:00&lt;00:00, 94.9MB/s]"
          }
        },
        "6c3d82acb7144e189e55379ac87e7cdb": {
          "model_module": "@jupyter-widgets/controls",
          "model_module_version": "1.5.0",
          "model_name": "ProgressStyleModel",
          "state": {
            "_model_module": "@jupyter-widgets/controls",
            "_model_module_version": "1.5.0",
            "_model_name": "ProgressStyleModel",
            "_view_count": null,
            "_view_module": "@jupyter-widgets/base",
            "_view_module_version": "1.2.0",
            "_view_name": "StyleView",
            "bar_color": null,
            "description_width": ""
          }
        },
        "6cad6a4f20e2429f9147d16529b8a348": {
          "model_module": "@jupyter-widgets/controls",
          "model_module_version": "1.5.0",
          "model_name": "DescriptionStyleModel",
          "state": {
            "_model_module": "@jupyter-widgets/controls",
            "_model_module_version": "1.5.0",
            "_model_name": "DescriptionStyleModel",
            "_view_count": null,
            "_view_module": "@jupyter-widgets/base",
            "_view_module_version": "1.2.0",
            "_view_name": "StyleView",
            "description_width": ""
          }
        },
        "6e490455b8b546119c46c4765f13b1b3": {
          "model_module": "@jupyter-widgets/base",
          "model_module_version": "1.2.0",
          "model_name": "LayoutModel",
          "state": {
            "_model_module": "@jupyter-widgets/base",
            "_model_module_version": "1.2.0",
            "_model_name": "LayoutModel",
            "_view_count": null,
            "_view_module": "@jupyter-widgets/base",
            "_view_module_version": "1.2.0",
            "_view_name": "LayoutView",
            "align_content": null,
            "align_items": null,
            "align_self": null,
            "border": null,
            "bottom": null,
            "display": null,
            "flex": null,
            "flex_flow": null,
            "grid_area": null,
            "grid_auto_columns": null,
            "grid_auto_flow": null,
            "grid_auto_rows": null,
            "grid_column": null,
            "grid_gap": null,
            "grid_row": null,
            "grid_template_areas": null,
            "grid_template_columns": null,
            "grid_template_rows": null,
            "height": null,
            "justify_content": null,
            "justify_items": null,
            "left": null,
            "margin": null,
            "max_height": null,
            "max_width": null,
            "min_height": null,
            "min_width": null,
            "object_fit": null,
            "object_position": null,
            "order": null,
            "overflow": null,
            "overflow_x": null,
            "overflow_y": null,
            "padding": null,
            "right": null,
            "top": null,
            "visibility": null,
            "width": null
          }
        },
        "6f54ba7955ab43f7868c6dd34bad7792": {
          "model_module": "@jupyter-widgets/base",
          "model_module_version": "1.2.0",
          "model_name": "LayoutModel",
          "state": {
            "_model_module": "@jupyter-widgets/base",
            "_model_module_version": "1.2.0",
            "_model_name": "LayoutModel",
            "_view_count": null,
            "_view_module": "@jupyter-widgets/base",
            "_view_module_version": "1.2.0",
            "_view_name": "LayoutView",
            "align_content": null,
            "align_items": null,
            "align_self": null,
            "border": null,
            "bottom": null,
            "display": null,
            "flex": null,
            "flex_flow": null,
            "grid_area": null,
            "grid_auto_columns": null,
            "grid_auto_flow": null,
            "grid_auto_rows": null,
            "grid_column": null,
            "grid_gap": null,
            "grid_row": null,
            "grid_template_areas": null,
            "grid_template_columns": null,
            "grid_template_rows": null,
            "height": null,
            "justify_content": null,
            "justify_items": null,
            "left": null,
            "margin": null,
            "max_height": null,
            "max_width": null,
            "min_height": null,
            "min_width": null,
            "object_fit": null,
            "object_position": null,
            "order": null,
            "overflow": null,
            "overflow_x": null,
            "overflow_y": null,
            "padding": null,
            "right": null,
            "top": null,
            "visibility": null,
            "width": null
          }
        },
        "74da7443fd124258858a97c5328d79ce": {
          "model_module": "@jupyter-widgets/base",
          "model_module_version": "1.2.0",
          "model_name": "LayoutModel",
          "state": {
            "_model_module": "@jupyter-widgets/base",
            "_model_module_version": "1.2.0",
            "_model_name": "LayoutModel",
            "_view_count": null,
            "_view_module": "@jupyter-widgets/base",
            "_view_module_version": "1.2.0",
            "_view_name": "LayoutView",
            "align_content": null,
            "align_items": null,
            "align_self": null,
            "border": null,
            "bottom": null,
            "display": null,
            "flex": null,
            "flex_flow": null,
            "grid_area": null,
            "grid_auto_columns": null,
            "grid_auto_flow": null,
            "grid_auto_rows": null,
            "grid_column": null,
            "grid_gap": null,
            "grid_row": null,
            "grid_template_areas": null,
            "grid_template_columns": null,
            "grid_template_rows": null,
            "height": null,
            "justify_content": null,
            "justify_items": null,
            "left": null,
            "margin": null,
            "max_height": null,
            "max_width": null,
            "min_height": null,
            "min_width": null,
            "object_fit": null,
            "object_position": null,
            "order": null,
            "overflow": null,
            "overflow_x": null,
            "overflow_y": null,
            "padding": null,
            "right": null,
            "top": null,
            "visibility": null,
            "width": null
          }
        },
        "780f6a9bbfa94b05b37c33aeb3066779": {
          "model_module": "@jupyter-widgets/controls",
          "model_module_version": "1.5.0",
          "model_name": "HTMLModel",
          "state": {
            "_dom_classes": [],
            "_model_module": "@jupyter-widgets/controls",
            "_model_module_version": "1.5.0",
            "_model_name": "HTMLModel",
            "_view_count": null,
            "_view_module": "@jupyter-widgets/controls",
            "_view_module_version": "1.5.0",
            "_view_name": "HTMLView",
            "description": "",
            "description_tooltip": null,
            "layout": "IPY_MODEL_74da7443fd124258858a97c5328d79ce",
            "placeholder": "​",
            "style": "IPY_MODEL_3ebbbc6f79374f9983cc2be7047ce978",
            "value": "Generating test split: 100%"
          }
        },
        "79123cea480f40529dc9f93e82587522": {
          "model_module": "@jupyter-widgets/controls",
          "model_module_version": "1.5.0",
          "model_name": "FloatProgressModel",
          "state": {
            "_dom_classes": [],
            "_model_module": "@jupyter-widgets/controls",
            "_model_module_version": "1.5.0",
            "_model_name": "FloatProgressModel",
            "_view_count": null,
            "_view_module": "@jupyter-widgets/controls",
            "_view_module_version": "1.5.0",
            "_view_name": "ProgressView",
            "bar_style": "success",
            "description": "",
            "description_tooltip": null,
            "layout": "IPY_MODEL_4dddef1ae380406b86686b049146cdb5",
            "max": 41996509,
            "min": 0,
            "orientation": "horizontal",
            "style": "IPY_MODEL_ea589ed3620a4f49b45770fcdb85957e",
            "value": 41996509
          }
        },
        "7b345421cc4240cda710ce729a7b64b3": {
          "model_module": "@jupyter-widgets/controls",
          "model_module_version": "1.5.0",
          "model_name": "DescriptionStyleModel",
          "state": {
            "_model_module": "@jupyter-widgets/controls",
            "_model_module_version": "1.5.0",
            "_model_name": "DescriptionStyleModel",
            "_view_count": null,
            "_view_module": "@jupyter-widgets/base",
            "_view_module_version": "1.2.0",
            "_view_name": "StyleView",
            "description_width": ""
          }
        },
        "7fcd3bcb30c848df9aac8daccefcf0a4": {
          "model_module": "@jupyter-widgets/base",
          "model_module_version": "1.2.0",
          "model_name": "LayoutModel",
          "state": {
            "_model_module": "@jupyter-widgets/base",
            "_model_module_version": "1.2.0",
            "_model_name": "LayoutModel",
            "_view_count": null,
            "_view_module": "@jupyter-widgets/base",
            "_view_module_version": "1.2.0",
            "_view_name": "LayoutView",
            "align_content": null,
            "align_items": null,
            "align_self": null,
            "border": null,
            "bottom": null,
            "display": null,
            "flex": null,
            "flex_flow": null,
            "grid_area": null,
            "grid_auto_columns": null,
            "grid_auto_flow": null,
            "grid_auto_rows": null,
            "grid_column": null,
            "grid_gap": null,
            "grid_row": null,
            "grid_template_areas": null,
            "grid_template_columns": null,
            "grid_template_rows": null,
            "height": null,
            "justify_content": null,
            "justify_items": null,
            "left": null,
            "margin": null,
            "max_height": null,
            "max_width": null,
            "min_height": null,
            "min_width": null,
            "object_fit": null,
            "object_position": null,
            "order": null,
            "overflow": null,
            "overflow_x": null,
            "overflow_y": null,
            "padding": null,
            "right": null,
            "top": null,
            "visibility": null,
            "width": null
          }
        },
        "80690da999c1435c82f64608f227a431": {
          "model_module": "@jupyter-widgets/controls",
          "model_module_version": "1.5.0",
          "model_name": "FloatProgressModel",
          "state": {
            "_dom_classes": [],
            "_model_module": "@jupyter-widgets/controls",
            "_model_module_version": "1.5.0",
            "_model_name": "FloatProgressModel",
            "_view_count": null,
            "_view_module": "@jupyter-widgets/controls",
            "_view_module_version": "1.5.0",
            "_view_name": "ProgressView",
            "bar_style": "success",
            "description": "",
            "description_tooltip": null,
            "layout": "IPY_MODEL_e65821ff658f4f3b9451a4a4c34af597",
            "max": 25000,
            "min": 0,
            "orientation": "horizontal",
            "style": "IPY_MODEL_aff2fdffa35849e0b7a276ee044e2bf7",
            "value": 25000
          }
        },
        "81e79e4dd8b644e8a85483a60c2e52ec": {
          "model_module": "@jupyter-widgets/controls",
          "model_module_version": "1.5.0",
          "model_name": "HTMLModel",
          "state": {
            "_dom_classes": [],
            "_model_module": "@jupyter-widgets/controls",
            "_model_module_version": "1.5.0",
            "_model_name": "HTMLModel",
            "_view_count": null,
            "_view_module": "@jupyter-widgets/controls",
            "_view_module_version": "1.5.0",
            "_view_name": "HTMLView",
            "description": "",
            "description_tooltip": null,
            "layout": "IPY_MODEL_a7f472d2e0aa4084a5238111c939b034",
            "placeholder": "​",
            "style": "IPY_MODEL_56a8de23bd7345a099df97d1444da028",
            "value": "README.md: 100%"
          }
        },
        "8829f4ad0e3f4e26ab72d3c7d20b5c46": {
          "model_module": "@jupyter-widgets/base",
          "model_module_version": "1.2.0",
          "model_name": "LayoutModel",
          "state": {
            "_model_module": "@jupyter-widgets/base",
            "_model_module_version": "1.2.0",
            "_model_name": "LayoutModel",
            "_view_count": null,
            "_view_module": "@jupyter-widgets/base",
            "_view_module_version": "1.2.0",
            "_view_name": "LayoutView",
            "align_content": null,
            "align_items": null,
            "align_self": null,
            "border": null,
            "bottom": null,
            "display": null,
            "flex": null,
            "flex_flow": null,
            "grid_area": null,
            "grid_auto_columns": null,
            "grid_auto_flow": null,
            "grid_auto_rows": null,
            "grid_column": null,
            "grid_gap": null,
            "grid_row": null,
            "grid_template_areas": null,
            "grid_template_columns": null,
            "grid_template_rows": null,
            "height": null,
            "justify_content": null,
            "justify_items": null,
            "left": null,
            "margin": null,
            "max_height": null,
            "max_width": null,
            "min_height": null,
            "min_width": null,
            "object_fit": null,
            "object_position": null,
            "order": null,
            "overflow": null,
            "overflow_x": null,
            "overflow_y": null,
            "padding": null,
            "right": null,
            "top": null,
            "visibility": null,
            "width": null
          }
        },
        "8e536527622647a38deacb4c09612a0b": {
          "model_module": "@jupyter-widgets/base",
          "model_module_version": "1.2.0",
          "model_name": "LayoutModel",
          "state": {
            "_model_module": "@jupyter-widgets/base",
            "_model_module_version": "1.2.0",
            "_model_name": "LayoutModel",
            "_view_count": null,
            "_view_module": "@jupyter-widgets/base",
            "_view_module_version": "1.2.0",
            "_view_name": "LayoutView",
            "align_content": null,
            "align_items": null,
            "align_self": null,
            "border": null,
            "bottom": null,
            "display": null,
            "flex": null,
            "flex_flow": null,
            "grid_area": null,
            "grid_auto_columns": null,
            "grid_auto_flow": null,
            "grid_auto_rows": null,
            "grid_column": null,
            "grid_gap": null,
            "grid_row": null,
            "grid_template_areas": null,
            "grid_template_columns": null,
            "grid_template_rows": null,
            "height": null,
            "justify_content": null,
            "justify_items": null,
            "left": null,
            "margin": null,
            "max_height": null,
            "max_width": null,
            "min_height": null,
            "min_width": null,
            "object_fit": null,
            "object_position": null,
            "order": null,
            "overflow": null,
            "overflow_x": null,
            "overflow_y": null,
            "padding": null,
            "right": null,
            "top": null,
            "visibility": null,
            "width": null
          }
        },
        "97a382952b0f416c9e864114bda04613": {
          "model_module": "@jupyter-widgets/controls",
          "model_module_version": "1.5.0",
          "model_name": "HBoxModel",
          "state": {
            "_dom_classes": [],
            "_model_module": "@jupyter-widgets/controls",
            "_model_module_version": "1.5.0",
            "_model_name": "HBoxModel",
            "_view_count": null,
            "_view_module": "@jupyter-widgets/controls",
            "_view_module_version": "1.5.0",
            "_view_name": "HBoxView",
            "box_style": "",
            "children": [
              "IPY_MODEL_2f32d186c5884ab7a51c418bea8b9828",
              "IPY_MODEL_66db5ff10ce1486ea854d04af9110477",
              "IPY_MODEL_e9da70e09b5e4cacb3024b4a6c5b482b"
            ],
            "layout": "IPY_MODEL_55afef1fbcd740048ef08d0ae9e29dc1"
          }
        },
        "996e541876f34234b564ae70f1a11b2c": {
          "model_module": "@jupyter-widgets/controls",
          "model_module_version": "1.5.0",
          "model_name": "DescriptionStyleModel",
          "state": {
            "_model_module": "@jupyter-widgets/controls",
            "_model_module_version": "1.5.0",
            "_model_name": "DescriptionStyleModel",
            "_view_count": null,
            "_view_module": "@jupyter-widgets/base",
            "_view_module_version": "1.2.0",
            "_view_name": "StyleView",
            "description_width": ""
          }
        },
        "a3bef656001a4ea0ba8295d3d0dc452e": {
          "model_module": "@jupyter-widgets/base",
          "model_module_version": "1.2.0",
          "model_name": "LayoutModel",
          "state": {
            "_model_module": "@jupyter-widgets/base",
            "_model_module_version": "1.2.0",
            "_model_name": "LayoutModel",
            "_view_count": null,
            "_view_module": "@jupyter-widgets/base",
            "_view_module_version": "1.2.0",
            "_view_name": "LayoutView",
            "align_content": null,
            "align_items": null,
            "align_self": null,
            "border": null,
            "bottom": null,
            "display": null,
            "flex": null,
            "flex_flow": null,
            "grid_area": null,
            "grid_auto_columns": null,
            "grid_auto_flow": null,
            "grid_auto_rows": null,
            "grid_column": null,
            "grid_gap": null,
            "grid_row": null,
            "grid_template_areas": null,
            "grid_template_columns": null,
            "grid_template_rows": null,
            "height": null,
            "justify_content": null,
            "justify_items": null,
            "left": null,
            "margin": null,
            "max_height": null,
            "max_width": null,
            "min_height": null,
            "min_width": null,
            "object_fit": null,
            "object_position": null,
            "order": null,
            "overflow": null,
            "overflow_x": null,
            "overflow_y": null,
            "padding": null,
            "right": null,
            "top": null,
            "visibility": null,
            "width": null
          }
        },
        "a59037fe7a374bf4a8b9cd757f0e9153": {
          "model_module": "@jupyter-widgets/controls",
          "model_module_version": "1.5.0",
          "model_name": "ProgressStyleModel",
          "state": {
            "_model_module": "@jupyter-widgets/controls",
            "_model_module_version": "1.5.0",
            "_model_name": "ProgressStyleModel",
            "_view_count": null,
            "_view_module": "@jupyter-widgets/base",
            "_view_module_version": "1.2.0",
            "_view_name": "StyleView",
            "bar_color": null,
            "description_width": ""
          }
        },
        "a7ae04ab5fc74139b2748d7b388220b4": {
          "model_module": "@jupyter-widgets/base",
          "model_module_version": "1.2.0",
          "model_name": "LayoutModel",
          "state": {
            "_model_module": "@jupyter-widgets/base",
            "_model_module_version": "1.2.0",
            "_model_name": "LayoutModel",
            "_view_count": null,
            "_view_module": "@jupyter-widgets/base",
            "_view_module_version": "1.2.0",
            "_view_name": "LayoutView",
            "align_content": null,
            "align_items": null,
            "align_self": null,
            "border": null,
            "bottom": null,
            "display": null,
            "flex": null,
            "flex_flow": null,
            "grid_area": null,
            "grid_auto_columns": null,
            "grid_auto_flow": null,
            "grid_auto_rows": null,
            "grid_column": null,
            "grid_gap": null,
            "grid_row": null,
            "grid_template_areas": null,
            "grid_template_columns": null,
            "grid_template_rows": null,
            "height": null,
            "justify_content": null,
            "justify_items": null,
            "left": null,
            "margin": null,
            "max_height": null,
            "max_width": null,
            "min_height": null,
            "min_width": null,
            "object_fit": null,
            "object_position": null,
            "order": null,
            "overflow": null,
            "overflow_x": null,
            "overflow_y": null,
            "padding": null,
            "right": null,
            "top": null,
            "visibility": null,
            "width": null
          }
        },
        "a7f472d2e0aa4084a5238111c939b034": {
          "model_module": "@jupyter-widgets/base",
          "model_module_version": "1.2.0",
          "model_name": "LayoutModel",
          "state": {
            "_model_module": "@jupyter-widgets/base",
            "_model_module_version": "1.2.0",
            "_model_name": "LayoutModel",
            "_view_count": null,
            "_view_module": "@jupyter-widgets/base",
            "_view_module_version": "1.2.0",
            "_view_name": "LayoutView",
            "align_content": null,
            "align_items": null,
            "align_self": null,
            "border": null,
            "bottom": null,
            "display": null,
            "flex": null,
            "flex_flow": null,
            "grid_area": null,
            "grid_auto_columns": null,
            "grid_auto_flow": null,
            "grid_auto_rows": null,
            "grid_column": null,
            "grid_gap": null,
            "grid_row": null,
            "grid_template_areas": null,
            "grid_template_columns": null,
            "grid_template_rows": null,
            "height": null,
            "justify_content": null,
            "justify_items": null,
            "left": null,
            "margin": null,
            "max_height": null,
            "max_width": null,
            "min_height": null,
            "min_width": null,
            "object_fit": null,
            "object_position": null,
            "order": null,
            "overflow": null,
            "overflow_x": null,
            "overflow_y": null,
            "padding": null,
            "right": null,
            "top": null,
            "visibility": null,
            "width": null
          }
        },
        "acef7cbaf2854314b6d35ef0f20790c4": {
          "model_module": "@jupyter-widgets/controls",
          "model_module_version": "1.5.0",
          "model_name": "FloatProgressModel",
          "state": {
            "_dom_classes": [],
            "_model_module": "@jupyter-widgets/controls",
            "_model_module_version": "1.5.0",
            "_model_name": "FloatProgressModel",
            "_view_count": null,
            "_view_module": "@jupyter-widgets/controls",
            "_view_module_version": "1.5.0",
            "_view_name": "ProgressView",
            "bar_style": "success",
            "description": "",
            "description_tooltip": null,
            "layout": "IPY_MODEL_dca645853b80421081d3f8c3210f6fa4",
            "max": 25000,
            "min": 0,
            "orientation": "horizontal",
            "style": "IPY_MODEL_2659cf02ad374740b6cbeb5f3c47e670",
            "value": 25000
          }
        },
        "aff2fdffa35849e0b7a276ee044e2bf7": {
          "model_module": "@jupyter-widgets/controls",
          "model_module_version": "1.5.0",
          "model_name": "ProgressStyleModel",
          "state": {
            "_model_module": "@jupyter-widgets/controls",
            "_model_module_version": "1.5.0",
            "_model_name": "ProgressStyleModel",
            "_view_count": null,
            "_view_module": "@jupyter-widgets/base",
            "_view_module_version": "1.2.0",
            "_view_name": "StyleView",
            "bar_color": null,
            "description_width": ""
          }
        },
        "b661faddb5e847ec80785e41926e934f": {
          "model_module": "@jupyter-widgets/controls",
          "model_module_version": "1.5.0",
          "model_name": "HTMLModel",
          "state": {
            "_dom_classes": [],
            "_model_module": "@jupyter-widgets/controls",
            "_model_module_version": "1.5.0",
            "_model_name": "HTMLModel",
            "_view_count": null,
            "_view_module": "@jupyter-widgets/controls",
            "_view_module_version": "1.5.0",
            "_view_name": "HTMLView",
            "description": "",
            "description_tooltip": null,
            "layout": "IPY_MODEL_fa4238a062fc413bb33360d3fe939d03",
            "placeholder": "​",
            "style": "IPY_MODEL_6cad6a4f20e2429f9147d16529b8a348",
            "value": " 7.81k/7.81k [00:00&lt;00:00, 191kB/s]"
          }
        },
        "bd7923dd0673459e85cd7ed325fdbfb8": {
          "model_module": "@jupyter-widgets/base",
          "model_module_version": "1.2.0",
          "model_name": "LayoutModel",
          "state": {
            "_model_module": "@jupyter-widgets/base",
            "_model_module_version": "1.2.0",
            "_model_name": "LayoutModel",
            "_view_count": null,
            "_view_module": "@jupyter-widgets/base",
            "_view_module_version": "1.2.0",
            "_view_name": "LayoutView",
            "align_content": null,
            "align_items": null,
            "align_self": null,
            "border": null,
            "bottom": null,
            "display": null,
            "flex": null,
            "flex_flow": null,
            "grid_area": null,
            "grid_auto_columns": null,
            "grid_auto_flow": null,
            "grid_auto_rows": null,
            "grid_column": null,
            "grid_gap": null,
            "grid_row": null,
            "grid_template_areas": null,
            "grid_template_columns": null,
            "grid_template_rows": null,
            "height": null,
            "justify_content": null,
            "justify_items": null,
            "left": null,
            "margin": null,
            "max_height": null,
            "max_width": null,
            "min_height": null,
            "min_width": null,
            "object_fit": null,
            "object_position": null,
            "order": null,
            "overflow": null,
            "overflow_x": null,
            "overflow_y": null,
            "padding": null,
            "right": null,
            "top": null,
            "visibility": null,
            "width": null
          }
        },
        "bfa627c4bb254bf0b63a106251948253": {
          "model_module": "@jupyter-widgets/controls",
          "model_module_version": "1.5.0",
          "model_name": "DescriptionStyleModel",
          "state": {
            "_model_module": "@jupyter-widgets/controls",
            "_model_module_version": "1.5.0",
            "_model_name": "DescriptionStyleModel",
            "_view_count": null,
            "_view_module": "@jupyter-widgets/base",
            "_view_module_version": "1.2.0",
            "_view_name": "StyleView",
            "description_width": ""
          }
        },
        "c506b86eb5084d6986d7c7b816595f83": {
          "model_module": "@jupyter-widgets/controls",
          "model_module_version": "1.5.0",
          "model_name": "HTMLModel",
          "state": {
            "_dom_classes": [],
            "_model_module": "@jupyter-widgets/controls",
            "_model_module_version": "1.5.0",
            "_model_name": "HTMLModel",
            "_view_count": null,
            "_view_module": "@jupyter-widgets/controls",
            "_view_module_version": "1.5.0",
            "_view_name": "HTMLView",
            "description": "",
            "description_tooltip": null,
            "layout": "IPY_MODEL_db6a193fa057477ab8bf53eb7352ebcb",
            "placeholder": "​",
            "style": "IPY_MODEL_253c2ab0df254040a618bf917904fea8",
            "value": "unsupervised-00000-of-00001.parquet: 100%"
          }
        },
        "cc58be3ae7f244339d56827fbdfe1161": {
          "model_module": "@jupyter-widgets/controls",
          "model_module_version": "1.5.0",
          "model_name": "HBoxModel",
          "state": {
            "_dom_classes": [],
            "_model_module": "@jupyter-widgets/controls",
            "_model_module_version": "1.5.0",
            "_model_name": "HBoxModel",
            "_view_count": null,
            "_view_module": "@jupyter-widgets/controls",
            "_view_module_version": "1.5.0",
            "_view_name": "HBoxView",
            "box_style": "",
            "children": [
              "IPY_MODEL_e8d44fdd8bae4b2c86962cf30f9c3ba4",
              "IPY_MODEL_49954ee2febb4bd18aaa07040b213de6",
              "IPY_MODEL_fc5cd7169645452597846655f23b8a33"
            ],
            "layout": "IPY_MODEL_a3bef656001a4ea0ba8295d3d0dc452e"
          }
        },
        "ce4de234bc314896847ca6ddaf97efa5": {
          "model_module": "@jupyter-widgets/base",
          "model_module_version": "1.2.0",
          "model_name": "LayoutModel",
          "state": {
            "_model_module": "@jupyter-widgets/base",
            "_model_module_version": "1.2.0",
            "_model_name": "LayoutModel",
            "_view_count": null,
            "_view_module": "@jupyter-widgets/base",
            "_view_module_version": "1.2.0",
            "_view_name": "LayoutView",
            "align_content": null,
            "align_items": null,
            "align_self": null,
            "border": null,
            "bottom": null,
            "display": null,
            "flex": null,
            "flex_flow": null,
            "grid_area": null,
            "grid_auto_columns": null,
            "grid_auto_flow": null,
            "grid_auto_rows": null,
            "grid_column": null,
            "grid_gap": null,
            "grid_row": null,
            "grid_template_areas": null,
            "grid_template_columns": null,
            "grid_template_rows": null,
            "height": null,
            "justify_content": null,
            "justify_items": null,
            "left": null,
            "margin": null,
            "max_height": null,
            "max_width": null,
            "min_height": null,
            "min_width": null,
            "object_fit": null,
            "object_position": null,
            "order": null,
            "overflow": null,
            "overflow_x": null,
            "overflow_y": null,
            "padding": null,
            "right": null,
            "top": null,
            "visibility": null,
            "width": null
          }
        },
        "d14beb96f422441db82923b846e90905": {
          "model_module": "@jupyter-widgets/base",
          "model_module_version": "1.2.0",
          "model_name": "LayoutModel",
          "state": {
            "_model_module": "@jupyter-widgets/base",
            "_model_module_version": "1.2.0",
            "_model_name": "LayoutModel",
            "_view_count": null,
            "_view_module": "@jupyter-widgets/base",
            "_view_module_version": "1.2.0",
            "_view_name": "LayoutView",
            "align_content": null,
            "align_items": null,
            "align_self": null,
            "border": null,
            "bottom": null,
            "display": null,
            "flex": null,
            "flex_flow": null,
            "grid_area": null,
            "grid_auto_columns": null,
            "grid_auto_flow": null,
            "grid_auto_rows": null,
            "grid_column": null,
            "grid_gap": null,
            "grid_row": null,
            "grid_template_areas": null,
            "grid_template_columns": null,
            "grid_template_rows": null,
            "height": null,
            "justify_content": null,
            "justify_items": null,
            "left": null,
            "margin": null,
            "max_height": null,
            "max_width": null,
            "min_height": null,
            "min_width": null,
            "object_fit": null,
            "object_position": null,
            "order": null,
            "overflow": null,
            "overflow_x": null,
            "overflow_y": null,
            "padding": null,
            "right": null,
            "top": null,
            "visibility": null,
            "width": null
          }
        },
        "d749dac478274a17937d5a9a95ca8c2d": {
          "model_module": "@jupyter-widgets/controls",
          "model_module_version": "1.5.0",
          "model_name": "DescriptionStyleModel",
          "state": {
            "_model_module": "@jupyter-widgets/controls",
            "_model_module_version": "1.5.0",
            "_model_name": "DescriptionStyleModel",
            "_view_count": null,
            "_view_module": "@jupyter-widgets/base",
            "_view_module_version": "1.2.0",
            "_view_name": "StyleView",
            "description_width": ""
          }
        },
        "db6a193fa057477ab8bf53eb7352ebcb": {
          "model_module": "@jupyter-widgets/base",
          "model_module_version": "1.2.0",
          "model_name": "LayoutModel",
          "state": {
            "_model_module": "@jupyter-widgets/base",
            "_model_module_version": "1.2.0",
            "_model_name": "LayoutModel",
            "_view_count": null,
            "_view_module": "@jupyter-widgets/base",
            "_view_module_version": "1.2.0",
            "_view_name": "LayoutView",
            "align_content": null,
            "align_items": null,
            "align_self": null,
            "border": null,
            "bottom": null,
            "display": null,
            "flex": null,
            "flex_flow": null,
            "grid_area": null,
            "grid_auto_columns": null,
            "grid_auto_flow": null,
            "grid_auto_rows": null,
            "grid_column": null,
            "grid_gap": null,
            "grid_row": null,
            "grid_template_areas": null,
            "grid_template_columns": null,
            "grid_template_rows": null,
            "height": null,
            "justify_content": null,
            "justify_items": null,
            "left": null,
            "margin": null,
            "max_height": null,
            "max_width": null,
            "min_height": null,
            "min_width": null,
            "object_fit": null,
            "object_position": null,
            "order": null,
            "overflow": null,
            "overflow_x": null,
            "overflow_y": null,
            "padding": null,
            "right": null,
            "top": null,
            "visibility": null,
            "width": null
          }
        },
        "dc5a7540767b49b7953f3ec53090f7d7": {
          "model_module": "@jupyter-widgets/controls",
          "model_module_version": "1.5.0",
          "model_name": "FloatProgressModel",
          "state": {
            "_dom_classes": [],
            "_model_module": "@jupyter-widgets/controls",
            "_model_module_version": "1.5.0",
            "_model_name": "FloatProgressModel",
            "_view_count": null,
            "_view_module": "@jupyter-widgets/controls",
            "_view_module_version": "1.5.0",
            "_view_name": "ProgressView",
            "bar_style": "success",
            "description": "",
            "description_tooltip": null,
            "layout": "IPY_MODEL_325cd76d07454f088234e332ade607fe",
            "max": 50000,
            "min": 0,
            "orientation": "horizontal",
            "style": "IPY_MODEL_6c3d82acb7144e189e55379ac87e7cdb",
            "value": 50000
          }
        },
        "dca645853b80421081d3f8c3210f6fa4": {
          "model_module": "@jupyter-widgets/base",
          "model_module_version": "1.2.0",
          "model_name": "LayoutModel",
          "state": {
            "_model_module": "@jupyter-widgets/base",
            "_model_module_version": "1.2.0",
            "_model_name": "LayoutModel",
            "_view_count": null,
            "_view_module": "@jupyter-widgets/base",
            "_view_module_version": "1.2.0",
            "_view_name": "LayoutView",
            "align_content": null,
            "align_items": null,
            "align_self": null,
            "border": null,
            "bottom": null,
            "display": null,
            "flex": null,
            "flex_flow": null,
            "grid_area": null,
            "grid_auto_columns": null,
            "grid_auto_flow": null,
            "grid_auto_rows": null,
            "grid_column": null,
            "grid_gap": null,
            "grid_row": null,
            "grid_template_areas": null,
            "grid_template_columns": null,
            "grid_template_rows": null,
            "height": null,
            "justify_content": null,
            "justify_items": null,
            "left": null,
            "margin": null,
            "max_height": null,
            "max_width": null,
            "min_height": null,
            "min_width": null,
            "object_fit": null,
            "object_position": null,
            "order": null,
            "overflow": null,
            "overflow_x": null,
            "overflow_y": null,
            "padding": null,
            "right": null,
            "top": null,
            "visibility": null,
            "width": null
          }
        },
        "dd994028ed31488b94e610824a5a3711": {
          "model_module": "@jupyter-widgets/base",
          "model_module_version": "1.2.0",
          "model_name": "LayoutModel",
          "state": {
            "_model_module": "@jupyter-widgets/base",
            "_model_module_version": "1.2.0",
            "_model_name": "LayoutModel",
            "_view_count": null,
            "_view_module": "@jupyter-widgets/base",
            "_view_module_version": "1.2.0",
            "_view_name": "LayoutView",
            "align_content": null,
            "align_items": null,
            "align_self": null,
            "border": null,
            "bottom": null,
            "display": null,
            "flex": null,
            "flex_flow": null,
            "grid_area": null,
            "grid_auto_columns": null,
            "grid_auto_flow": null,
            "grid_auto_rows": null,
            "grid_column": null,
            "grid_gap": null,
            "grid_row": null,
            "grid_template_areas": null,
            "grid_template_columns": null,
            "grid_template_rows": null,
            "height": null,
            "justify_content": null,
            "justify_items": null,
            "left": null,
            "margin": null,
            "max_height": null,
            "max_width": null,
            "min_height": null,
            "min_width": null,
            "object_fit": null,
            "object_position": null,
            "order": null,
            "overflow": null,
            "overflow_x": null,
            "overflow_y": null,
            "padding": null,
            "right": null,
            "top": null,
            "visibility": null,
            "width": null
          }
        },
        "e106454ff4c84c74b9e9b3826c9df6f1": {
          "model_module": "@jupyter-widgets/controls",
          "model_module_version": "1.5.0",
          "model_name": "HBoxModel",
          "state": {
            "_dom_classes": [],
            "_model_module": "@jupyter-widgets/controls",
            "_model_module_version": "1.5.0",
            "_model_name": "HBoxModel",
            "_view_count": null,
            "_view_module": "@jupyter-widgets/controls",
            "_view_module_version": "1.5.0",
            "_view_name": "HBoxView",
            "box_style": "",
            "children": [
              "IPY_MODEL_c506b86eb5084d6986d7c7b816595f83",
              "IPY_MODEL_79123cea480f40529dc9f93e82587522",
              "IPY_MODEL_694ceece69f749eb9746baff2de2fac2"
            ],
            "layout": "IPY_MODEL_8e536527622647a38deacb4c09612a0b"
          }
        },
        "e1917f4a0b0342469e63ca1a7c3d7609": {
          "model_module": "@jupyter-widgets/controls",
          "model_module_version": "1.5.0",
          "model_name": "HTMLModel",
          "state": {
            "_dom_classes": [],
            "_model_module": "@jupyter-widgets/controls",
            "_model_module_version": "1.5.0",
            "_model_name": "HTMLModel",
            "_view_count": null,
            "_view_module": "@jupyter-widgets/controls",
            "_view_module_version": "1.5.0",
            "_view_name": "HTMLView",
            "description": "",
            "description_tooltip": null,
            "layout": "IPY_MODEL_dd994028ed31488b94e610824a5a3711",
            "placeholder": "​",
            "style": "IPY_MODEL_5e2e2181d25642db9a78a9e52b2ce66a",
            "value": "Generating unsupervised split: 100%"
          }
        },
        "e26945811d074a2faba747b09c6d4562": {
          "model_module": "@jupyter-widgets/controls",
          "model_module_version": "1.5.0",
          "model_name": "HBoxModel",
          "state": {
            "_dom_classes": [],
            "_model_module": "@jupyter-widgets/controls",
            "_model_module_version": "1.5.0",
            "_model_name": "HBoxModel",
            "_view_count": null,
            "_view_module": "@jupyter-widgets/controls",
            "_view_module_version": "1.5.0",
            "_view_name": "HBoxView",
            "box_style": "",
            "children": [
              "IPY_MODEL_0f9e759769a74cbaaaa758d1ec4ceb43",
              "IPY_MODEL_80690da999c1435c82f64608f227a431",
              "IPY_MODEL_40b27aed8c944383915c13b6f582c5c2"
            ],
            "layout": "IPY_MODEL_6f54ba7955ab43f7868c6dd34bad7792"
          }
        },
        "e65821ff658f4f3b9451a4a4c34af597": {
          "model_module": "@jupyter-widgets/base",
          "model_module_version": "1.2.0",
          "model_name": "LayoutModel",
          "state": {
            "_model_module": "@jupyter-widgets/base",
            "_model_module_version": "1.2.0",
            "_model_name": "LayoutModel",
            "_view_count": null,
            "_view_module": "@jupyter-widgets/base",
            "_view_module_version": "1.2.0",
            "_view_name": "LayoutView",
            "align_content": null,
            "align_items": null,
            "align_self": null,
            "border": null,
            "bottom": null,
            "display": null,
            "flex": null,
            "flex_flow": null,
            "grid_area": null,
            "grid_auto_columns": null,
            "grid_auto_flow": null,
            "grid_auto_rows": null,
            "grid_column": null,
            "grid_gap": null,
            "grid_row": null,
            "grid_template_areas": null,
            "grid_template_columns": null,
            "grid_template_rows": null,
            "height": null,
            "justify_content": null,
            "justify_items": null,
            "left": null,
            "margin": null,
            "max_height": null,
            "max_width": null,
            "min_height": null,
            "min_width": null,
            "object_fit": null,
            "object_position": null,
            "order": null,
            "overflow": null,
            "overflow_x": null,
            "overflow_y": null,
            "padding": null,
            "right": null,
            "top": null,
            "visibility": null,
            "width": null
          }
        },
        "e8d44fdd8bae4b2c86962cf30f9c3ba4": {
          "model_module": "@jupyter-widgets/controls",
          "model_module_version": "1.5.0",
          "model_name": "HTMLModel",
          "state": {
            "_dom_classes": [],
            "_model_module": "@jupyter-widgets/controls",
            "_model_module_version": "1.5.0",
            "_model_name": "HTMLModel",
            "_view_count": null,
            "_view_module": "@jupyter-widgets/controls",
            "_view_module_version": "1.5.0",
            "_view_name": "HTMLView",
            "description": "",
            "description_tooltip": null,
            "layout": "IPY_MODEL_07e59c8e03984412a4964a4c4aaa4cae",
            "placeholder": "​",
            "style": "IPY_MODEL_3eb84592a7f54cd99fd4a28f034170f1",
            "value": "test-00000-of-00001.parquet: 100%"
          }
        },
        "e9da70e09b5e4cacb3024b4a6c5b482b": {
          "model_module": "@jupyter-widgets/controls",
          "model_module_version": "1.5.0",
          "model_name": "HTMLModel",
          "state": {
            "_dom_classes": [],
            "_model_module": "@jupyter-widgets/controls",
            "_model_module_version": "1.5.0",
            "_model_name": "HTMLModel",
            "_view_count": null,
            "_view_module": "@jupyter-widgets/controls",
            "_view_module_version": "1.5.0",
            "_view_name": "HTMLView",
            "description": "",
            "description_tooltip": null,
            "layout": "IPY_MODEL_235a83435f4947a4993b73df1c862dec",
            "placeholder": "​",
            "style": "IPY_MODEL_3a3aecd66bb3437bb213af9887fb4e4b",
            "value": " 21.0M/21.0M [00:00&lt;00:00, 31.6MB/s]"
          }
        },
        "ea589ed3620a4f49b45770fcdb85957e": {
          "model_module": "@jupyter-widgets/controls",
          "model_module_version": "1.5.0",
          "model_name": "ProgressStyleModel",
          "state": {
            "_model_module": "@jupyter-widgets/controls",
            "_model_module_version": "1.5.0",
            "_model_name": "ProgressStyleModel",
            "_view_count": null,
            "_view_module": "@jupyter-widgets/base",
            "_view_module_version": "1.2.0",
            "_view_name": "StyleView",
            "bar_color": null,
            "description_width": ""
          }
        },
        "ebe0fa55db0344ed878073c9cb205ab0": {
          "model_module": "@jupyter-widgets/controls",
          "model_module_version": "1.5.0",
          "model_name": "HTMLModel",
          "state": {
            "_dom_classes": [],
            "_model_module": "@jupyter-widgets/controls",
            "_model_module_version": "1.5.0",
            "_model_name": "HTMLModel",
            "_view_count": null,
            "_view_module": "@jupyter-widgets/controls",
            "_view_module_version": "1.5.0",
            "_view_name": "HTMLView",
            "description": "",
            "description_tooltip": null,
            "layout": "IPY_MODEL_7fcd3bcb30c848df9aac8daccefcf0a4",
            "placeholder": "​",
            "style": "IPY_MODEL_31db3ca7254b4e539bd3bd7e57bd0f50",
            "value": " 50000/50000 [00:00&lt;00:00, 67154.12 examples/s]"
          }
        },
        "fa4238a062fc413bb33360d3fe939d03": {
          "model_module": "@jupyter-widgets/base",
          "model_module_version": "1.2.0",
          "model_name": "LayoutModel",
          "state": {
            "_model_module": "@jupyter-widgets/base",
            "_model_module_version": "1.2.0",
            "_model_name": "LayoutModel",
            "_view_count": null,
            "_view_module": "@jupyter-widgets/base",
            "_view_module_version": "1.2.0",
            "_view_name": "LayoutView",
            "align_content": null,
            "align_items": null,
            "align_self": null,
            "border": null,
            "bottom": null,
            "display": null,
            "flex": null,
            "flex_flow": null,
            "grid_area": null,
            "grid_auto_columns": null,
            "grid_auto_flow": null,
            "grid_auto_rows": null,
            "grid_column": null,
            "grid_gap": null,
            "grid_row": null,
            "grid_template_areas": null,
            "grid_template_columns": null,
            "grid_template_rows": null,
            "height": null,
            "justify_content": null,
            "justify_items": null,
            "left": null,
            "margin": null,
            "max_height": null,
            "max_width": null,
            "min_height": null,
            "min_width": null,
            "object_fit": null,
            "object_position": null,
            "order": null,
            "overflow": null,
            "overflow_x": null,
            "overflow_y": null,
            "padding": null,
            "right": null,
            "top": null,
            "visibility": null,
            "width": null
          }
        },
        "fc2d5d476e8a4ad8b1fc30877ea81fda": {
          "model_module": "@jupyter-widgets/base",
          "model_module_version": "1.2.0",
          "model_name": "LayoutModel",
          "state": {
            "_model_module": "@jupyter-widgets/base",
            "_model_module_version": "1.2.0",
            "_model_name": "LayoutModel",
            "_view_count": null,
            "_view_module": "@jupyter-widgets/base",
            "_view_module_version": "1.2.0",
            "_view_name": "LayoutView",
            "align_content": null,
            "align_items": null,
            "align_self": null,
            "border": null,
            "bottom": null,
            "display": null,
            "flex": null,
            "flex_flow": null,
            "grid_area": null,
            "grid_auto_columns": null,
            "grid_auto_flow": null,
            "grid_auto_rows": null,
            "grid_column": null,
            "grid_gap": null,
            "grid_row": null,
            "grid_template_areas": null,
            "grid_template_columns": null,
            "grid_template_rows": null,
            "height": null,
            "justify_content": null,
            "justify_items": null,
            "left": null,
            "margin": null,
            "max_height": null,
            "max_width": null,
            "min_height": null,
            "min_width": null,
            "object_fit": null,
            "object_position": null,
            "order": null,
            "overflow": null,
            "overflow_x": null,
            "overflow_y": null,
            "padding": null,
            "right": null,
            "top": null,
            "visibility": null,
            "width": null
          }
        },
        "fc5cd7169645452597846655f23b8a33": {
          "model_module": "@jupyter-widgets/controls",
          "model_module_version": "1.5.0",
          "model_name": "HTMLModel",
          "state": {
            "_dom_classes": [],
            "_model_module": "@jupyter-widgets/controls",
            "_model_module_version": "1.5.0",
            "_model_name": "HTMLModel",
            "_view_count": null,
            "_view_module": "@jupyter-widgets/controls",
            "_view_module_version": "1.5.0",
            "_view_name": "HTMLView",
            "description": "",
            "description_tooltip": null,
            "layout": "IPY_MODEL_8829f4ad0e3f4e26ab72d3c7d20b5c46",
            "placeholder": "​",
            "style": "IPY_MODEL_5df084944ed1474fad386e9eb7ab87d3",
            "value": " 20.5M/20.5M [00:00&lt;00:00, 40.5MB/s]"
          }
        }
      }
    }
  },
  "nbformat": 4,
  "nbformat_minor": 0
}
